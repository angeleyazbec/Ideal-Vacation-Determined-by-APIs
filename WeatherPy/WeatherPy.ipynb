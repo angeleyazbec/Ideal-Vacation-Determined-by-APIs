{
 "cells": [
  {
   "cell_type": "markdown",
   "metadata": {},
   "source": [
    "# WeatherPy"
   ]
  },
  {
   "cell_type": "code",
   "execution_count": 193,
   "metadata": {
    "scrolled": true
   },
   "outputs": [],
   "source": [
    "# Dependencies and Setup\n",
    "import matplotlib.pyplot as plt\n",
    "import pandas as pd\n",
    "import numpy as np\n",
    "import requests\n",
    "import time\n",
    "from scipy.stats import linregress\n",
    "from scipy import stats\n",
    "from datetime import date\n",
    "\n",
    "# Import API key\n",
    "from api_keys import weather_api_key\n",
    "\n",
    "# Incorporated citipy to determine city based on latitude and longitude\n",
    "from citipy import citipy\n",
    "\n",
    "# Output File (CSV)\n",
    "output_data_file = \"output_data/cities.csv\"\n",
    "\n",
    "# Range of latitudes and longitudes\n",
    "lat_range = (-90, 90)\n",
    "lng_range = (-180, 180)"
   ]
  },
  {
   "cell_type": "markdown",
   "metadata": {},
   "source": [
    "## Generate Cities List"
   ]
  },
  {
   "cell_type": "code",
   "execution_count": 131,
   "metadata": {},
   "outputs": [
    {
     "data": {
      "text/plain": [
       "597"
      ]
     },
     "execution_count": 131,
     "metadata": {},
     "output_type": "execute_result"
    }
   ],
   "source": [
    "# List for holding lat_lngs and cities\n",
    "lat_lngs = []\n",
    "cities = []\n",
    "\n",
    "# Create a set of random lat and lng combinations\n",
    "lats = np.random.uniform(lat_range[0], lat_range[1], size=1500)\n",
    "lngs = np.random.uniform(lng_range[0], lng_range[1], size=1500)\n",
    "lat_lngs = zip(lats, lngs)\n",
    "\n",
    "# Identify nearest city for each lat, lng combination\n",
    "for lat_lng in lat_lngs:\n",
    "    city = citipy.nearest_city(lat_lng[0], lat_lng[1]).city_name\n",
    "    \n",
    "    # If the city is unique, then add it to a our cities list\n",
    "    if city not in cities:\n",
    "        cities.append(city)\n",
    "\n",
    "#setting random.seed for reproducible results\n",
    "np.random.seed(42)\n",
    "\n",
    "# Print the city count to confirm sufficient count\n",
    "len(cities)"
   ]
  },
  {
   "cell_type": "code",
   "execution_count": 132,
   "metadata": {},
   "outputs": [],
   "source": [
    "#generating a sample of cities for testing the code\n",
    "#after the code is tested, these line will be seen as comments\n",
    "#subset_cities = cities[:50]\n",
    "\n",
    "#subset_cities"
   ]
  },
  {
   "cell_type": "markdown",
   "metadata": {},
   "source": [
    "### Perform API Calls\n",
    "* Perform a weather check on each city using a series of successive API calls.\n",
    "* Include a print log of each city as it'sbeing processed (with the city number and city name).\n",
    "\n",
    "> **HINT:** The OpenWeatherMap API only allows 60 calls per minute under their free plan. Try using `time.sleep(60)` after each set of 50 cities to avoid API errors due to large calls."
   ]
  },
  {
   "cell_type": "code",
   "execution_count": 163,
   "metadata": {},
   "outputs": [],
   "source": [
    "#saving the configuration information\n",
    "#saving the base url\n",
    "url = \"http://api.openweathermap.org/data/2.5/weather?\"\n",
    "\n",
    "#setting our units to imperial for Fahrenheit (temperature) and mph (wind speed)\n",
    "units = \"imperial\"\n",
    "\n",
    "#building the query url\n",
    "url2 = f\"{url}appid={weather_api_key}&units={units}&q=\"\n"
   ]
  },
  {
   "cell_type": "code",
   "execution_count": 164,
   "metadata": {
    "scrolled": true
   },
   "outputs": [
    {
     "name": "stdout",
     "output_type": "stream",
     "text": [
      "henties bay : 3356832 found! Appending relevant stats.\n",
      "City not found. Skipping...\n",
      "bethel : 5282297 found! Appending relevant stats.\n",
      "saint-francois : 2980080 found! Appending relevant stats.\n",
      "ushuaia : 3833367 found! Appending relevant stats.\n",
      "mar del plata : 3430863 found! Appending relevant stats.\n",
      "kruisfontein : 986717 found! Appending relevant stats.\n",
      "bronnoysund : 3159954 found! Appending relevant stats.\n",
      "City not found. Skipping...\n",
      "yumen : 1528998 found! Appending relevant stats.\n",
      "albany : 5106841 found! Appending relevant stats.\n",
      "dikson : 1507390 found! Appending relevant stats.\n",
      "ossora : 2122389 found! Appending relevant stats.\n",
      "vaini : 4032243 found! Appending relevant stats.\n",
      "castro : 3466704 found! Appending relevant stats.\n",
      "City not found. Skipping...\n",
      "vanimo : 2084442 found! Appending relevant stats.\n",
      "san cristobal : 3628473 found! Appending relevant stats.\n",
      "ulladulla : 2145554 found! Appending relevant stats.\n",
      "ewa beach : 5855051 found! Appending relevant stats.\n",
      "bluff : 2206939 found! Appending relevant stats.\n",
      "maldonado : 3441890 found! Appending relevant stats.\n",
      "mataura : 6201424 found! Appending relevant stats.\n",
      "jamestown : 5122534 found! Appending relevant stats.\n",
      "geraldton : 2070998 found! Appending relevant stats.\n",
      "punta arenas : 3874787 found! Appending relevant stats.\n",
      "mitu : 3674676 found! Appending relevant stats.\n",
      "da nang : 1583992 found! Appending relevant stats.\n",
      "bredasdorp : 1015776 found! Appending relevant stats.\n",
      "City not found. Skipping...\n",
      "port alfred : 964432 found! Appending relevant stats.\n",
      "busselton : 2075265 found! Appending relevant stats.\n",
      "qaanaaq : 3831208 found! Appending relevant stats.\n",
      "sitka : 5557293 found! Appending relevant stats.\n",
      "rikitea : 4030556 found! Appending relevant stats.\n",
      "yuma : 5322053 found! Appending relevant stats.\n",
      "luanda : 2240449 found! Appending relevant stats.\n",
      "saint-philippe : 935215 found! Appending relevant stats.\n",
      "atuona : 4020109 found! Appending relevant stats.\n",
      "te anau : 2181625 found! Appending relevant stats.\n",
      "marrakesh : 2542997 found! Appending relevant stats.\n",
      "mbaiki : 2384770 found! Appending relevant stats.\n",
      "makakilo city : 5850554 found! Appending relevant stats.\n",
      "east london : 1006984 found! Appending relevant stats.\n",
      "cherskiy : 2126199 found! Appending relevant stats.\n",
      "lyman : 704204 found! Appending relevant stats.\n",
      "saskylakh : 2017155 found! Appending relevant stats.\n",
      "City not found. Skipping...\n",
      "City not found. Skipping...\n",
      "yellowknife : 6185377 found! Appending relevant stats.\n",
      "chuy : 3443061 found! Appending relevant stats.\n",
      "new norfolk : 2155415 found! Appending relevant stats.\n",
      "broken hill : 2173911 found! Appending relevant stats.\n",
      "ribas do rio pardo : 3451399 found! Appending relevant stats.\n",
      "ancud : 3899695 found! Appending relevant stats.\n",
      "vanavara : 2013727 found! Appending relevant stats.\n",
      "coquimbo : 3893629 found! Appending relevant stats.\n",
      "sao filipe : 3374210 found! Appending relevant stats.\n",
      "kodiak : 5866583 found! Appending relevant stats.\n",
      "yurkivka : 688052 found! Appending relevant stats.\n",
      "City not found. Skipping...\n",
      "guymon : 5515743 found! Appending relevant stats.\n",
      "inhambane : 1045114 found! Appending relevant stats.\n",
      "thompson : 6165406 found! Appending relevant stats.\n",
      "ponta do sol : 2264557 found! Appending relevant stats.\n",
      "richards bay : 962367 found! Appending relevant stats.\n",
      "hermanus : 3366880 found! Appending relevant stats.\n",
      "russell : 4047434 found! Appending relevant stats.\n",
      "angren : 1514581 found! Appending relevant stats.\n",
      "hithadhoo : 1282256 found! Appending relevant stats.\n",
      "nikolskoye : 546105 found! Appending relevant stats.\n",
      "port hardy : 6111862 found! Appending relevant stats.\n",
      "hilo : 5855927 found! Appending relevant stats.\n",
      "shar : 1519275 found! Appending relevant stats.\n",
      "goma : 216281 found! Appending relevant stats.\n",
      "pizarro : 3672086 found! Appending relevant stats.\n",
      "faanui : 4034551 found! Appending relevant stats.\n",
      "hobart : 2163355 found! Appending relevant stats.\n",
      "road town : 3577430 found! Appending relevant stats.\n",
      "lebu : 3883457 found! Appending relevant stats.\n",
      "amapa : 3407762 found! Appending relevant stats.\n",
      "barrow : 5880054 found! Appending relevant stats.\n",
      "cape town : 3369157 found! Appending relevant stats.\n",
      "darhan : 2031964 found! Appending relevant stats.\n",
      "victor harbor : 2059470 found! Appending relevant stats.\n",
      "City not found. Skipping...\n",
      "havre-saint-pierre : 5972291 found! Appending relevant stats.\n",
      "the valley : 3573374 found! Appending relevant stats.\n",
      "verkhnyaya inta : 1487332 found! Appending relevant stats.\n",
      "beringovskiy : 2126710 found! Appending relevant stats.\n",
      "skjervoy : 777682 found! Appending relevant stats.\n",
      "kalmunai : 1242110 found! Appending relevant stats.\n",
      "westport : 4845585 found! Appending relevant stats.\n",
      "oudtshoorn : 967106 found! Appending relevant stats.\n",
      "grand gaube : 934479 found! Appending relevant stats.\n",
      "la ronge : 6050066 found! Appending relevant stats.\n",
      "terrak : 3134658 found! Appending relevant stats.\n",
      "bonthe : 2409914 found! Appending relevant stats.\n",
      "bengkulu : 1649150 found! Appending relevant stats.\n",
      "necochea : 3430443 found! Appending relevant stats.\n",
      "chokurdakh : 2126123 found! Appending relevant stats.\n",
      "itarema : 3393692 found! Appending relevant stats.\n",
      "pacifica : 5380420 found! Appending relevant stats.\n",
      "isangel : 2136825 found! Appending relevant stats.\n",
      "esperance : 2071860 found! Appending relevant stats.\n",
      "port-gentil : 2396518 found! Appending relevant stats.\n",
      "City not found. Skipping...\n",
      "lompoc : 5367788 found! Appending relevant stats.\n",
      "bontang : 1648186 found! Appending relevant stats.\n",
      "mahebourg : 934322 found! Appending relevant stats.\n",
      "lavrentiya : 4031637 found! Appending relevant stats.\n",
      "coihaique : 3894426 found! Appending relevant stats.\n",
      "breves : 3404817 found! Appending relevant stats.\n",
      "tuatapere : 2180815 found! Appending relevant stats.\n",
      "ajdabiya : 89113 found! Appending relevant stats.\n",
      "saint-jean-port-joli : 6620467 found! Appending relevant stats.\n",
      "vila franca do campo : 3372472 found! Appending relevant stats.\n",
      "gat : 293842 found! Appending relevant stats.\n",
      "katsuura : 2112309 found! Appending relevant stats.\n",
      "konongo : 2299349 found! Appending relevant stats.\n",
      "kaitangata : 2208248 found! Appending relevant stats.\n",
      "tommot : 2015179 found! Appending relevant stats.\n",
      "wanning : 1791779 found! Appending relevant stats.\n",
      "ribeira grande : 3372707 found! Appending relevant stats.\n",
      "sorong : 1626542 found! Appending relevant stats.\n",
      "rongcheng : 1797117 found! Appending relevant stats.\n",
      "kahului : 5847411 found! Appending relevant stats.\n",
      "caravelas : 3466980 found! Appending relevant stats.\n",
      "norman wells : 6089245 found! Appending relevant stats.\n",
      "sao luiz gonzaga : 3448552 found! Appending relevant stats.\n",
      "City not found. Skipping...\n",
      "udachnyy : 2014624 found! Appending relevant stats.\n",
      "naze : 1855540 found! Appending relevant stats.\n",
      "ola : 2122574 found! Appending relevant stats.\n",
      "ferkessedougou : 2289049 found! Appending relevant stats.\n",
      "yabelo : 326036 found! Appending relevant stats.\n",
      "roald : 3141667 found! Appending relevant stats.\n",
      "tasiilaq : 3424607 found! Appending relevant stats.\n",
      "laguna : 5364271 found! Appending relevant stats.\n",
      "avera : 4231997 found! Appending relevant stats.\n",
      "kapaa : 5848280 found! Appending relevant stats.\n",
      "tuktoyaktuk : 6170031 found! Appending relevant stats.\n",
      "bilibino : 2126682 found! Appending relevant stats.\n",
      "krapkowice : 3094788 found! Appending relevant stats.\n",
      "butaritari : 2110227 found! Appending relevant stats.\n",
      "santa maria : 3450083 found! Appending relevant stats.\n",
      "City not found. Skipping...\n",
      "cabo san lucas : 3985710 found! Appending relevant stats.\n",
      "panzhihua : 6929460 found! Appending relevant stats.\n",
      "waipawa : 2206874 found! Appending relevant stats.\n",
      "avarua : 4035715 found! Appending relevant stats.\n",
      "City not found. Skipping...\n",
      "souillac : 933995 found! Appending relevant stats.\n",
      "mecca : 104515 found! Appending relevant stats.\n",
      "hauterive : 3013748 found! Appending relevant stats.\n",
      "City not found. Skipping...\n",
      "goure : 2444219 found! Appending relevant stats.\n",
      "touros : 3386213 found! Appending relevant stats.\n",
      "oga : 3175788 found! Appending relevant stats.\n",
      "codrington : 2171099 found! Appending relevant stats.\n",
      "khatanga : 2022572 found! Appending relevant stats.\n",
      "klaksvik : 2618795 found! Appending relevant stats.\n",
      "City not found. Skipping...\n",
      "puerto ayora : 3652764 found! Appending relevant stats.\n"
     ]
    },
    {
     "name": "stdout",
     "output_type": "stream",
     "text": [
      "provideniya : 4031574 found! Appending relevant stats.\n",
      "phan thiet : 1571058 found! Appending relevant stats.\n",
      "pevek : 2122090 found! Appending relevant stats.\n",
      "City not found. Skipping...\n",
      "nouadhibou : 2377457 found! Appending relevant stats.\n",
      "tiksi : 2015306 found! Appending relevant stats.\n",
      "jacqueville : 2287778 found! Appending relevant stats.\n",
      "halifax : 6324729 found! Appending relevant stats.\n",
      "korla : 1529376 found! Appending relevant stats.\n",
      "lagos : 2332453 found! Appending relevant stats.\n",
      "ilhabela : 3461425 found! Appending relevant stats.\n",
      "vidim : 2013406 found! Appending relevant stats.\n",
      "City not found. Skipping...\n",
      "kluang : 1732811 found! Appending relevant stats.\n",
      "sao gabriel da cachoeira : 3662342 found! Appending relevant stats.\n",
      "sergeyevka : 1519385 found! Appending relevant stats.\n",
      "los llanos de aridane : 2514651 found! Appending relevant stats.\n",
      "paris : 2988507 found! Appending relevant stats.\n",
      "urusha : 2014078 found! Appending relevant stats.\n",
      "nome : 5870133 found! Appending relevant stats.\n",
      "salalah : 286621 found! Appending relevant stats.\n",
      "victoria : 1819729 found! Appending relevant stats.\n",
      "ginir : 336454 found! Appending relevant stats.\n",
      "abalak : 1512223 found! Appending relevant stats.\n",
      "varhaug : 3132644 found! Appending relevant stats.\n",
      "bambous virieux : 1106677 found! Appending relevant stats.\n",
      "City not found. Skipping...\n",
      "iracoubo : 3381428 found! Appending relevant stats.\n",
      "cockburn town : 3576994 found! Appending relevant stats.\n",
      "saint-pierre : 935214 found! Appending relevant stats.\n",
      "hinton : 5975503 found! Appending relevant stats.\n",
      "City not found. Skipping...\n",
      "sterling : 4787534 found! Appending relevant stats.\n",
      "severo-kurilsk : 2121385 found! Appending relevant stats.\n",
      "camana : 3945985 found! Appending relevant stats.\n",
      "ixtapa : 4004293 found! Appending relevant stats.\n",
      "fortuna : 5563839 found! Appending relevant stats.\n",
      "sakakah : 102527 found! Appending relevant stats.\n",
      "follonica : 6541106 found! Appending relevant stats.\n",
      "srandakan : 1626493 found! Appending relevant stats.\n",
      "vao : 2137773 found! Appending relevant stats.\n",
      "osypenko : 698316 found! Appending relevant stats.\n",
      "mayo : 4362001 found! Appending relevant stats.\n",
      "saint george : 5546220 found! Appending relevant stats.\n",
      "kokopo : 2093685 found! Appending relevant stats.\n",
      "carutapera : 3402648 found! Appending relevant stats.\n",
      "georgetown : 1735106 found! Appending relevant stats.\n",
      "cidreira : 3466165 found! Appending relevant stats.\n",
      "pemba : 1028918 found! Appending relevant stats.\n",
      "poum : 2138555 found! Appending relevant stats.\n",
      "paraiso : 3622547 found! Appending relevant stats.\n",
      "mount isa : 2065594 found! Appending relevant stats.\n",
      "abu dhabi : 292968 found! Appending relevant stats.\n",
      "valle del guamuez : 3827723 found! Appending relevant stats.\n",
      "mirnyy : 2019951 found! Appending relevant stats.\n",
      "houma : 4328010 found! Appending relevant stats.\n",
      "City not found. Skipping...\n",
      "kattivakkam : 1267433 found! Appending relevant stats.\n",
      "City not found. Skipping...\n",
      "sharjah : 292672 found! Appending relevant stats.\n",
      "moundou : 2427455 found! Appending relevant stats.\n",
      "komsomolskiy : 1513491 found! Appending relevant stats.\n",
      "huilong : 1806840 found! Appending relevant stats.\n",
      "saldanha : 3361934 found! Appending relevant stats.\n",
      "suoyarvi : 486186 found! Appending relevant stats.\n",
      "chapais : 5919850 found! Appending relevant stats.\n",
      "plettenberg bay : 964712 found! Appending relevant stats.\n",
      "tottori : 1849892 found! Appending relevant stats.\n",
      "abu samrah : 172515 found! Appending relevant stats.\n",
      "svetlogorsk : 10722858 found! Appending relevant stats.\n",
      "ashland : 5146062 found! Appending relevant stats.\n",
      "dingle : 1714733 found! Appending relevant stats.\n",
      "yining : 1786538 found! Appending relevant stats.\n",
      "belmonte : 3470137 found! Appending relevant stats.\n",
      "carnarvon : 2074865 found! Appending relevant stats.\n",
      "gravelbourg : 5965462 found! Appending relevant stats.\n",
      "warmbad : 3352263 found! Appending relevant stats.\n",
      "lukovetskiy : 533418 found! Appending relevant stats.\n",
      "torbay : 6167817 found! Appending relevant stats.\n",
      "hovd : 1516048 found! Appending relevant stats.\n",
      "meulaboh : 1214488 found! Appending relevant stats.\n",
      "pouebo : 2138607 found! Appending relevant stats.\n",
      "upernavik : 3418910 found! Appending relevant stats.\n",
      "los andes : 3882434 found! Appending relevant stats.\n",
      "leningradskiy : 2123814 found! Appending relevant stats.\n",
      "sinnamary : 3380290 found! Appending relevant stats.\n",
      "lagoa : 3372964 found! Appending relevant stats.\n",
      "makinsk : 1521230 found! Appending relevant stats.\n",
      "gurupa : 3398480 found! Appending relevant stats.\n",
      "chinsali : 918905 found! Appending relevant stats.\n",
      "port elizabeth : 964420 found! Appending relevant stats.\n",
      "ineu : 675606 found! Appending relevant stats.\n",
      "faya : 110690 found! Appending relevant stats.\n",
      "City not found. Skipping...\n",
      "chara : 2025630 found! Appending relevant stats.\n",
      "la union : 3695466 found! Appending relevant stats.\n",
      "narsaq : 3421719 found! Appending relevant stats.\n",
      "City not found. Skipping...\n",
      "shestakovo : 2016733 found! Appending relevant stats.\n",
      "newport : 2641598 found! Appending relevant stats.\n",
      "City not found. Skipping...\n",
      "tecoanapa : 3516171 found! Appending relevant stats.\n",
      "lichinga : 1043893 found! Appending relevant stats.\n",
      "City not found. Skipping...\n",
      "namatanai : 2090021 found! Appending relevant stats.\n",
      "cabedelo : 3404558 found! Appending relevant stats.\n",
      "tongliao : 2034400 found! Appending relevant stats.\n",
      "cayenne : 3382160 found! Appending relevant stats.\n",
      "longyearbyen : 2729907 found! Appending relevant stats.\n",
      "giyani : 1001860 found! Appending relevant stats.\n",
      "qasigiannguit : 3420768 found! Appending relevant stats.\n",
      "rawson : 3839307 found! Appending relevant stats.\n",
      "sorland : 3137469 found! Appending relevant stats.\n",
      "aguazul : 3690316 found! Appending relevant stats.\n",
      "City not found. Skipping...\n",
      "constitucion : 3893726 found! Appending relevant stats.\n",
      "tongchuan : 1795196 found! Appending relevant stats.\n",
      "taoudenni : 2450173 found! Appending relevant stats.\n",
      "guerrero negro : 4021858 found! Appending relevant stats.\n",
      "margate : 2643044 found! Appending relevant stats.\n",
      "padang : 1633419 found! Appending relevant stats.\n",
      "manchester : 2643123 found! Appending relevant stats.\n",
      "santa cruz : 3904906 found! Appending relevant stats.\n",
      "griffith : 4920986 found! Appending relevant stats.\n",
      "sioux lookout : 6148373 found! Appending relevant stats.\n",
      "martinez : 5370868 found! Appending relevant stats.\n",
      "kodinsk : 1503037 found! Appending relevant stats.\n",
      "avila : 3129138 found! Appending relevant stats.\n",
      "dourados : 3464460 found! Appending relevant stats.\n",
      "okha : 2122614 found! Appending relevant stats.\n",
      "ghanzi : 933759 found! Appending relevant stats.\n",
      "olafsvik : 3414079 found! Appending relevant stats.\n",
      "talara : 3691582 found! Appending relevant stats.\n",
      "riwaka : 2183406 found! Appending relevant stats.\n",
      "kozhva : 543246 found! Appending relevant stats.\n",
      "meadow lake : 5478673 found! Appending relevant stats.\n",
      "lenina : 536219 found! Appending relevant stats.\n",
      "haines junction : 5969025 found! Appending relevant stats.\n",
      "itoman : 1861280 found! Appending relevant stats.\n",
      "talwandi bhai : 1255082 found! Appending relevant stats.\n",
      "nola : 6541905 found! Appending relevant stats.\n",
      "zhigansk : 2012530 found! Appending relevant stats.\n",
      "karaton : 1630058 found! Appending relevant stats.\n",
      "bilma : 2446796 found! Appending relevant stats.\n",
      "kosum phisai : 1609476 found! Appending relevant stats.\n",
      "pimentel : 3693584 found! Appending relevant stats.\n",
      "presidencia roque saenz pena : 3840300 found! Appending relevant stats.\n",
      "leverkusen : 2878234 found! Appending relevant stats.\n",
      "khandyga : 2022773 found! Appending relevant stats.\n",
      "City not found. Skipping...\n",
      "City not found. Skipping...\n",
      "dubbo : 2168305 found! Appending relevant stats.\n",
      "marzuq : 72181 found! Appending relevant stats.\n",
      "luderitz : 3355672 found! Appending relevant stats.\n",
      "clyde river : 5924351 found! Appending relevant stats.\n",
      "metro : 1635283 found! Appending relevant stats.\n",
      "marsa matruh : 352733 found! Appending relevant stats.\n",
      "pauini : 3662927 found! Appending relevant stats.\n",
      "mount gambier : 2156643 found! Appending relevant stats.\n",
      "emerald : 2167426 found! Appending relevant stats.\n",
      "muisne : 3653967 found! Appending relevant stats.\n",
      "shellbrook : 6145951 found! Appending relevant stats.\n",
      "usinsk : 863061 found! Appending relevant stats.\n"
     ]
    },
    {
     "name": "stdout",
     "output_type": "stream",
     "text": [
      "terney : 2015352 found! Appending relevant stats.\n",
      "ambilobe : 1082243 found! Appending relevant stats.\n",
      "redmond : 5808079 found! Appending relevant stats.\n",
      "arraial do cabo : 3471451 found! Appending relevant stats.\n",
      "west sacramento : 5408211 found! Appending relevant stats.\n",
      "lisala : 211734 found! Appending relevant stats.\n",
      "bali : 1650535 found! Appending relevant stats.\n",
      "merauke : 2082539 found! Appending relevant stats.\n",
      "yulara : 6355222 found! Appending relevant stats.\n",
      "la rioja : 3336897 found! Appending relevant stats.\n",
      "ndioum : 2247684 found! Appending relevant stats.\n",
      "worcester : 4956199 found! Appending relevant stats.\n",
      "kushtagi : 1265446 found! Appending relevant stats.\n",
      "chifeng : 2038067 found! Appending relevant stats.\n",
      "san alberto : 3670242 found! Appending relevant stats.\n",
      "adeje : 2522437 found! Appending relevant stats.\n",
      "port blair : 1259385 found! Appending relevant stats.\n",
      "saint-joseph : 6690296 found! Appending relevant stats.\n",
      "bahia blanca : 3865086 found! Appending relevant stats.\n",
      "pundaguitan : 1698289 found! Appending relevant stats.\n",
      "toamasina : 1053384 found! Appending relevant stats.\n",
      "iqaluit : 5983720 found! Appending relevant stats.\n",
      "hamilton : 4513583 found! Appending relevant stats.\n",
      "kavieng : 2094342 found! Appending relevant stats.\n",
      "City not found. Skipping...\n",
      "bulgan : 2032201 found! Appending relevant stats.\n",
      "cairns : 2172797 found! Appending relevant stats.\n",
      "san policarpo : 1688696 found! Appending relevant stats.\n",
      "urbano santos : 3385726 found! Appending relevant stats.\n",
      "sao joao da barra : 3448903 found! Appending relevant stats.\n",
      "zeya : 2012593 found! Appending relevant stats.\n",
      "hasaki : 2112802 found! Appending relevant stats.\n",
      "ulaangom : 1515029 found! Appending relevant stats.\n",
      "City not found. Skipping...\n",
      "luganville : 2136150 found! Appending relevant stats.\n",
      "austin : 4671654 found! Appending relevant stats.\n",
      "City not found. Skipping...\n",
      "khotynets : 549341 found! Appending relevant stats.\n",
      "sarangani : 1687186 found! Appending relevant stats.\n",
      "kirovsk : 705809 found! Appending relevant stats.\n",
      "athabasca : 5887916 found! Appending relevant stats.\n",
      "pisco : 3932145 found! Appending relevant stats.\n",
      "cikupa : 1985663 found! Appending relevant stats.\n",
      "sfantu gheorghe : 667303 found! Appending relevant stats.\n",
      "City not found. Skipping...\n",
      "port lincoln : 2063036 found! Appending relevant stats.\n",
      "City not found. Skipping...\n",
      "City not found. Skipping...\n",
      "sur : 286245 found! Appending relevant stats.\n",
      "northam : 2641434 found! Appending relevant stats.\n",
      "slonim : 621754 found! Appending relevant stats.\n",
      "arlit : 2447513 found! Appending relevant stats.\n",
      "vestmannaeyjar : 3412093 found! Appending relevant stats.\n",
      "burnie : 2173125 found! Appending relevant stats.\n",
      "aden : 415189 found! Appending relevant stats.\n",
      "bereznehuvate : 712339 found! Appending relevant stats.\n",
      "staryy nadym : 1490918 found! Appending relevant stats.\n",
      "nanortalik : 3421765 found! Appending relevant stats.\n",
      "saint-denis : 2980915 found! Appending relevant stats.\n",
      "City not found. Skipping...\n",
      "calvia : 2520493 found! Appending relevant stats.\n",
      "pushkino : 503977 found! Appending relevant stats.\n",
      "corinth : 259289 found! Appending relevant stats.\n",
      "san jose : 5392171 found! Appending relevant stats.\n",
      "bull savanna : 3491161 found! Appending relevant stats.\n",
      "egvekinot : 4031742 found! Appending relevant stats.\n",
      "dogondoutchi : 2445553 found! Appending relevant stats.\n",
      "jeremie : 3723593 found! Appending relevant stats.\n",
      "samarai : 2132606 found! Appending relevant stats.\n",
      "ostrovnoy : 556268 found! Appending relevant stats.\n",
      "City not found. Skipping...\n",
      "anadyr : 2127202 found! Appending relevant stats.\n",
      "iralaya : 3608828 found! Appending relevant stats.\n",
      "ekhabi : 2122614 found! Appending relevant stats.\n",
      "patacamaya : 3908339 found! Appending relevant stats.\n",
      "kudat : 1736458 found! Appending relevant stats.\n",
      "derbent : 566532 found! Appending relevant stats.\n",
      "City not found. Skipping...\n",
      "santana : 3391360 found! Appending relevant stats.\n",
      "iguape : 3461465 found! Appending relevant stats.\n",
      "ahuimanu : 5856516 found! Appending relevant stats.\n",
      "mayuge : 229292 found! Appending relevant stats.\n",
      "City not found. Skipping...\n",
      "damaturu : 2345521 found! Appending relevant stats.\n",
      "olinda : 3393536 found! Appending relevant stats.\n",
      "el calvario : 3597509 found! Appending relevant stats.\n",
      "sinazongwe : 897456 found! Appending relevant stats.\n",
      "sisimiut : 3419842 found! Appending relevant stats.\n",
      "khipro : 1173889 found! Appending relevant stats.\n",
      "maragogi : 3395458 found! Appending relevant stats.\n",
      "nantucket : 4944903 found! Appending relevant stats.\n",
      "yibin : 1786770 found! Appending relevant stats.\n",
      "kaseda : 1859964 found! Appending relevant stats.\n",
      "sept-iles : 6144312 found! Appending relevant stats.\n",
      "hay river : 5972762 found! Appending relevant stats.\n",
      "grindavik : 3416888 found! Appending relevant stats.\n",
      "shimoda : 1852357 found! Appending relevant stats.\n",
      "rincon : 4218882 found! Appending relevant stats.\n",
      "qaqortoq : 3420846 found! Appending relevant stats.\n",
      "veraval : 1253237 found! Appending relevant stats.\n",
      "City not found. Skipping...\n",
      "beterou : 2395127 found! Appending relevant stats.\n",
      "lata : 2738381 found! Appending relevant stats.\n",
      "talnakh : 1490256 found! Appending relevant stats.\n",
      "chincha alta : 3943789 found! Appending relevant stats.\n",
      "portland : 5746545 found! Appending relevant stats.\n",
      "suntar : 2015913 found! Appending relevant stats.\n",
      "toro : 3666881 found! Appending relevant stats.\n",
      "City not found. Skipping...\n",
      "lakhimpur : 1265242 found! Appending relevant stats.\n",
      "khani : 610864 found! Appending relevant stats.\n",
      "george town : 1735106 found! Appending relevant stats.\n",
      "kabwe : 916095 found! Appending relevant stats.\n",
      "goderich : 5962442 found! Appending relevant stats.\n",
      "airai : 1651810 found! Appending relevant stats.\n",
      "gweta : 933734 found! Appending relevant stats.\n",
      "kangaba : 2455735 found! Appending relevant stats.\n",
      "kinshasa : 2314302 found! Appending relevant stats.\n",
      "seguin : 4727756 found! Appending relevant stats.\n",
      "nemuro : 2128975 found! Appending relevant stats.\n",
      "dong hoi : 1582886 found! Appending relevant stats.\n",
      "knyaze-volkonskoye : 2021954 found! Appending relevant stats.\n",
      "peniche : 2264923 found! Appending relevant stats.\n",
      "City not found. Skipping...\n",
      "City not found. Skipping...\n",
      "City not found. Skipping...\n",
      "matagami : 6067747 found! Appending relevant stats.\n",
      "south valley : 5492450 found! Appending relevant stats.\n",
      "mehamn : 778707 found! Appending relevant stats.\n",
      "sao jose da coroa grande : 3388456 found! Appending relevant stats.\n",
      "sabang : 1214026 found! Appending relevant stats.\n",
      "rovaniemi : 638936 found! Appending relevant stats.\n",
      "fukue : 1863997 found! Appending relevant stats.\n",
      "naqadeh : 122698 found! Appending relevant stats.\n",
      "City not found. Skipping...\n",
      "City not found. Skipping...\n",
      "ayabaca : 3699502 found! Appending relevant stats.\n",
      "City not found. Skipping...\n",
      "catuday : 1717787 found! Appending relevant stats.\n",
      "jiaonan : 1792087 found! Appending relevant stats.\n",
      "bandarbeyla : 64814 found! Appending relevant stats.\n",
      "toora-khem : 1489401 found! Appending relevant stats.\n",
      "college : 5859699 found! Appending relevant stats.\n",
      "klyuchi : 1503153 found! Appending relevant stats.\n",
      "noumea : 2139521 found! Appending relevant stats.\n",
      "furtwangen : 2923521 found! Appending relevant stats.\n",
      "punta de bombon : 3931255 found! Appending relevant stats.\n",
      "tessalit : 2449893 found! Appending relevant stats.\n",
      "aykhal : 2027296 found! Appending relevant stats.\n",
      "conde : 3385077 found! Appending relevant stats.\n",
      "cohoes : 5113142 found! Appending relevant stats.\n",
      "sambava : 1056899 found! Appending relevant stats.\n",
      "sabha : 2212775 found! Appending relevant stats.\n",
      "dalvik : 2632287 found! Appending relevant stats.\n",
      "berlevag : 780687 found! Appending relevant stats.\n",
      "micheweni : 153955 found! Appending relevant stats.\n",
      "hongjiang : 1808106 found! Appending relevant stats.\n",
      "luba : 2309528 found! Appending relevant stats.\n",
      "sudbury : 5964700 found! Appending relevant stats.\n",
      "gilgit : 1178338 found! Appending relevant stats.\n",
      "arroyo : 3129371 found! Appending relevant stats.\n",
      "arman : 2127060 found! Appending relevant stats.\n",
      "quatre cocos : 1106643 found! Appending relevant stats.\n",
      "ucar : 584791 found! Appending relevant stats.\n",
      "chamba : 1274848 found! Appending relevant stats.\n",
      "buala : 2109528 found! Appending relevant stats.\n",
      "ratnagiri : 1258338 found! Appending relevant stats.\n"
     ]
    },
    {
     "name": "stdout",
     "output_type": "stream",
     "text": [
      "yaan : 2338660 found! Appending relevant stats.\n",
      "bereda : 3105522 found! Appending relevant stats.\n",
      "adrar : 2381972 found! Appending relevant stats.\n",
      "hofn : 2630299 found! Appending relevant stats.\n",
      "trinidad : 3902377 found! Appending relevant stats.\n",
      "kyaukse : 1316703 found! Appending relevant stats.\n",
      "stornoway : 2636790 found! Appending relevant stats.\n",
      "City not found. Skipping...\n",
      "juneau : 5554072 found! Appending relevant stats.\n",
      "general roca : 3855065 found! Appending relevant stats.\n",
      "talen : 1255130 found! Appending relevant stats.\n",
      "shingu : 1847947 found! Appending relevant stats.\n",
      "mutata : 3674130 found! Appending relevant stats.\n",
      "bonavista : 5905393 found! Appending relevant stats.\n",
      "ikare : 2595346 found! Appending relevant stats.\n",
      "ilulissat : 3423146 found! Appending relevant stats.\n",
      "wad madani : 364103 found! Appending relevant stats.\n",
      "atar : 2381334 found! Appending relevant stats.\n",
      "sistranda : 3139597 found! Appending relevant stats.\n",
      "frutigen : 2660707 found! Appending relevant stats.\n",
      "City not found. Skipping...\n",
      "labuhan : 8079926 found! Appending relevant stats.\n",
      "soyo : 2236967 found! Appending relevant stats.\n",
      "hirara : 1862505 found! Appending relevant stats.\n",
      "itacare : 3460940 found! Appending relevant stats.\n",
      "kasangulu : 2315057 found! Appending relevant stats.\n",
      "carberry : 5916706 found! Appending relevant stats.\n",
      "havre : 3013633 found! Appending relevant stats.\n",
      "zavetnoye : 464179 found! Appending relevant stats.\n",
      "simao : 1794209 found! Appending relevant stats.\n",
      "huayucachi : 3938819 found! Appending relevant stats.\n",
      "opuwo : 3354077 found! Appending relevant stats.\n",
      "kidal : 2455290 found! Appending relevant stats.\n",
      "City not found. Skipping...\n",
      "khilok : 2022463 found! Appending relevant stats.\n",
      "mushie : 2312249 found! Appending relevant stats.\n",
      "yatou : 1786855 found! Appending relevant stats.\n",
      "kutum : 371745 found! Appending relevant stats.\n",
      "cullman : 4057835 found! Appending relevant stats.\n",
      "cedar city : 5536630 found! Appending relevant stats.\n",
      "City not found. Skipping...\n",
      "hami : 1529484 found! Appending relevant stats.\n",
      "prince george : 6113365 found! Appending relevant stats.\n",
      "severnoye : 1492607 found! Appending relevant stats.\n",
      "City not found. Skipping...\n",
      "kaniama : 214389 found! Appending relevant stats.\n",
      "myitkyina : 1307741 found! Appending relevant stats.\n",
      "winneba : 2294034 found! Appending relevant stats.\n",
      "leshukonskoye : 535839 found! Appending relevant stats.\n",
      "boundiali : 2290836 found! Appending relevant stats.\n",
      "buzmeyin : 162099 found! Appending relevant stats.\n",
      "dunedin : 2191562 found! Appending relevant stats.\n",
      "zyryanka : 2119283 found! Appending relevant stats.\n",
      "dobric : 3201946 found! Appending relevant stats.\n",
      "sao miguel do araguaia : 3448455 found! Appending relevant stats.\n",
      "puerto madero : 3520989 found! Appending relevant stats.\n",
      "raudeberg : 3146487 found! Appending relevant stats.\n",
      "aswan : 359792 found! Appending relevant stats.\n",
      "mahon : 2514301 found! Appending relevant stats.\n",
      "ust-nera : 2120048 found! Appending relevant stats.\n",
      "vestmanna : 2610343 found! Appending relevant stats.\n",
      "acapulco : 3533462 found! Appending relevant stats.\n",
      "macia : 1024701 found! Appending relevant stats.\n",
      "kununurra : 2068110 found! Appending relevant stats.\n",
      "sawtell : 2150163 found! Appending relevant stats.\n",
      "creil : 3022610 found! Appending relevant stats.\n",
      "ruteng : 1629380 found! Appending relevant stats.\n",
      "eyl : 60019 found! Appending relevant stats.\n",
      "ust-maya : 2013918 found! Appending relevant stats.\n",
      "lobito : 3347939 found! Appending relevant stats.\n",
      "City not found. Skipping...\n",
      "oranjestad : 3577154 found! Appending relevant stats.\n",
      "puerto escondido : 3520994 found! Appending relevant stats.\n",
      "bell ville : 3864331 found! Appending relevant stats.\n",
      "City not found. Skipping...\n",
      "laela : 156098 found! Appending relevant stats.\n",
      "waddan : 2209055 found! Appending relevant stats.\n",
      "kumluca : 305681 found! Appending relevant stats.\n",
      "havelock : 4470244 found! Appending relevant stats.\n",
      "tazmalt : 2477537 found! Appending relevant stats.\n",
      "aras : 3129839 found! Appending relevant stats.\n",
      "samarinda : 1629001 found! Appending relevant stats.\n",
      "dhari : 1272861 found! Appending relevant stats.\n",
      "novyy urengoy : 1496511 found! Appending relevant stats.\n",
      "koundara : 2418596 found! Appending relevant stats.\n",
      "yar-sale : 1486321 found! Appending relevant stats.\n",
      "joshimath : 1268814 found! Appending relevant stats.\n",
      "kushikino : 1858041 found! Appending relevant stats.\n",
      "dayong : 1789289 found! Appending relevant stats.\n",
      "senanga : 898947 found! Appending relevant stats.\n",
      "southampton : 2637487 found! Appending relevant stats.\n",
      "altamont : 5711149 found! Appending relevant stats.\n",
      "imbituba : 3461370 found! Appending relevant stats.\n",
      "yerofey pavlovich : 2012938 found! Appending relevant stats.\n",
      "russkaya polyana : 695104 found! Appending relevant stats.\n",
      "sola : 2134814 found! Appending relevant stats.\n",
      "dhidhdhoo : 1337612 found! Appending relevant stats.\n",
      "vredendal : 3359736 found! Appending relevant stats.\n",
      "City not found. Skipping...\n",
      "kushima : 1895695 found! Appending relevant stats.\n",
      "eirunepe : 3664321 found! Appending relevant stats.\n",
      "tocopilla : 3869716 found! Appending relevant stats.\n",
      "verkhoyansk : 2013465 found! Appending relevant stats.\n"
     ]
    }
   ],
   "source": [
    "#retrieving requested data through iterative calls\n",
    "\n",
    "#creating list for the cities to store data into\n",
    "places = []\n",
    "\n",
    "#creating loop to obtain requested weather information\n",
    "#use subset_cities when testing the data\n",
    "#use cities when using the full cities list\n",
    "for city in cities:\n",
    "    #building query url \n",
    "    query_url= url2 + city\n",
    "    response = requests.get(query_url).json()\n",
    "\n",
    "    #try to grab the following information, if available\n",
    "    try:\n",
    "        latitude=response[\"coord\"][\"lat\"]\n",
    "        longitude=response[\"coord\"][\"lon\"]\n",
    "        temp=response[\"main\"][\"temp\"]\n",
    "        max_temp=response[\"main\"][\"temp_max\"]\n",
    "        humidity=response[\"main\"][\"humidity\"]\n",
    "        cloud=response[\"clouds\"][\"all\"]\n",
    "        wind=response[\"wind\"][\"speed\"]\n",
    "        country=response[\"sys\"][\"country\"]\n",
    "        date=response[\"dt\"]\n",
    "        places.append({'City' : city, \n",
    "                       'Country' : country,\n",
    "                        'Latitude' : latitude,\n",
    "                        'Longitude' : longitude,\n",
    "                        'Temperature (F)' : temp,\n",
    "                        'Max Temp (F)' : max_temp,\n",
    "                        'Humidity %' : humidity,\n",
    "                        'Cloudiness' : cloud,\n",
    "                        'Wind Speed (mph)' : wind,\n",
    "                        \"Date\" : date})\n",
    "        print(f\"{city} found! Appending relevant stats.\")\n",
    "        #limiting the number of API calls to 60 calls per minute, when using a large sample\n",
    "        time.sleep(1)\n",
    "    #including a condition for handling cities that do not exist\n",
    "    except KeyError:\n",
    "        print(f\"City not found. Skipping...\")\n",
    "    "
   ]
  },
  {
   "cell_type": "markdown",
   "metadata": {},
   "source": [
    "### Convert Raw Data to DataFrame\n",
    "* Export the city data into a .csv.\n",
    "* Display the DataFrame"
   ]
  },
  {
   "cell_type": "code",
   "execution_count": 165,
   "metadata": {},
   "outputs": [
    {
     "data": {
      "text/html": [
       "<div>\n",
       "<style scoped>\n",
       "    .dataframe tbody tr th:only-of-type {\n",
       "        vertical-align: middle;\n",
       "    }\n",
       "\n",
       "    .dataframe tbody tr th {\n",
       "        vertical-align: top;\n",
       "    }\n",
       "\n",
       "    .dataframe thead th {\n",
       "        text-align: right;\n",
       "    }\n",
       "</style>\n",
       "<table border=\"1\" class=\"dataframe\">\n",
       "  <thead>\n",
       "    <tr style=\"text-align: right;\">\n",
       "      <th></th>\n",
       "      <th>City</th>\n",
       "      <th>Country</th>\n",
       "      <th>Latitude</th>\n",
       "      <th>Longitude</th>\n",
       "      <th>Temperature (F)</th>\n",
       "      <th>Max Temp (F)</th>\n",
       "      <th>Humidity %</th>\n",
       "      <th>Cloudiness</th>\n",
       "      <th>Wind Speed (mph)</th>\n",
       "      <th>Date</th>\n",
       "    </tr>\n",
       "  </thead>\n",
       "  <tbody>\n",
       "    <tr>\n",
       "      <th>0</th>\n",
       "      <td>henties bay</td>\n",
       "      <td>NA</td>\n",
       "      <td>-22.1160</td>\n",
       "      <td>14.2845</td>\n",
       "      <td>66.85</td>\n",
       "      <td>66.85</td>\n",
       "      <td>84</td>\n",
       "      <td>8</td>\n",
       "      <td>5.50</td>\n",
       "      <td>1643152035</td>\n",
       "    </tr>\n",
       "    <tr>\n",
       "      <th>1</th>\n",
       "      <td>bethel</td>\n",
       "      <td>US</td>\n",
       "      <td>41.3712</td>\n",
       "      <td>-73.4140</td>\n",
       "      <td>31.98</td>\n",
       "      <td>36.05</td>\n",
       "      <td>60</td>\n",
       "      <td>0</td>\n",
       "      <td>8.05</td>\n",
       "      <td>1643152010</td>\n",
       "    </tr>\n",
       "    <tr>\n",
       "      <th>2</th>\n",
       "      <td>saint-francois</td>\n",
       "      <td>FR</td>\n",
       "      <td>46.4154</td>\n",
       "      <td>3.9054</td>\n",
       "      <td>26.04</td>\n",
       "      <td>26.67</td>\n",
       "      <td>93</td>\n",
       "      <td>20</td>\n",
       "      <td>2.30</td>\n",
       "      <td>1643152038</td>\n",
       "    </tr>\n",
       "    <tr>\n",
       "      <th>3</th>\n",
       "      <td>ushuaia</td>\n",
       "      <td>AR</td>\n",
       "      <td>-54.8000</td>\n",
       "      <td>-68.3000</td>\n",
       "      <td>42.46</td>\n",
       "      <td>42.46</td>\n",
       "      <td>81</td>\n",
       "      <td>75</td>\n",
       "      <td>26.46</td>\n",
       "      <td>1643151838</td>\n",
       "    </tr>\n",
       "    <tr>\n",
       "      <th>4</th>\n",
       "      <td>mar del plata</td>\n",
       "      <td>AR</td>\n",
       "      <td>-38.0023</td>\n",
       "      <td>-57.5575</td>\n",
       "      <td>71.91</td>\n",
       "      <td>73.09</td>\n",
       "      <td>97</td>\n",
       "      <td>75</td>\n",
       "      <td>11.99</td>\n",
       "      <td>1643152040</td>\n",
       "    </tr>\n",
       "    <tr>\n",
       "      <th>5</th>\n",
       "      <td>kruisfontein</td>\n",
       "      <td>ZA</td>\n",
       "      <td>-34.0033</td>\n",
       "      <td>24.7314</td>\n",
       "      <td>67.89</td>\n",
       "      <td>67.89</td>\n",
       "      <td>92</td>\n",
       "      <td>100</td>\n",
       "      <td>8.08</td>\n",
       "      <td>1643152042</td>\n",
       "    </tr>\n",
       "    <tr>\n",
       "      <th>6</th>\n",
       "      <td>bronnoysund</td>\n",
       "      <td>NO</td>\n",
       "      <td>65.4625</td>\n",
       "      <td>12.1997</td>\n",
       "      <td>33.80</td>\n",
       "      <td>36.66</td>\n",
       "      <td>86</td>\n",
       "      <td>100</td>\n",
       "      <td>16.11</td>\n",
       "      <td>1643152043</td>\n",
       "    </tr>\n",
       "    <tr>\n",
       "      <th>7</th>\n",
       "      <td>yumen</td>\n",
       "      <td>CN</td>\n",
       "      <td>40.2833</td>\n",
       "      <td>97.2000</td>\n",
       "      <td>16.97</td>\n",
       "      <td>16.97</td>\n",
       "      <td>47</td>\n",
       "      <td>15</td>\n",
       "      <td>8.90</td>\n",
       "      <td>1643152053</td>\n",
       "    </tr>\n",
       "    <tr>\n",
       "      <th>8</th>\n",
       "      <td>albany</td>\n",
       "      <td>US</td>\n",
       "      <td>42.6001</td>\n",
       "      <td>-73.9662</td>\n",
       "      <td>24.03</td>\n",
       "      <td>27.27</td>\n",
       "      <td>67</td>\n",
       "      <td>74</td>\n",
       "      <td>8.23</td>\n",
       "      <td>1643151990</td>\n",
       "    </tr>\n",
       "    <tr>\n",
       "      <th>9</th>\n",
       "      <td>dikson</td>\n",
       "      <td>RU</td>\n",
       "      <td>73.5069</td>\n",
       "      <td>80.5464</td>\n",
       "      <td>11.75</td>\n",
       "      <td>11.75</td>\n",
       "      <td>91</td>\n",
       "      <td>100</td>\n",
       "      <td>30.13</td>\n",
       "      <td>1643152038</td>\n",
       "    </tr>\n",
       "  </tbody>\n",
       "</table>\n",
       "</div>"
      ],
      "text/plain": [
       "             City Country  Latitude  Longitude  Temperature (F)  Max Temp (F)  \\\n",
       "0     henties bay      NA  -22.1160    14.2845            66.85         66.85   \n",
       "1          bethel      US   41.3712   -73.4140            31.98         36.05   \n",
       "2  saint-francois      FR   46.4154     3.9054            26.04         26.67   \n",
       "3         ushuaia      AR  -54.8000   -68.3000            42.46         42.46   \n",
       "4   mar del plata      AR  -38.0023   -57.5575            71.91         73.09   \n",
       "5    kruisfontein      ZA  -34.0033    24.7314            67.89         67.89   \n",
       "6     bronnoysund      NO   65.4625    12.1997            33.80         36.66   \n",
       "7           yumen      CN   40.2833    97.2000            16.97         16.97   \n",
       "8          albany      US   42.6001   -73.9662            24.03         27.27   \n",
       "9          dikson      RU   73.5069    80.5464            11.75         11.75   \n",
       "\n",
       "   Humidity %  Cloudiness  Wind Speed (mph)        Date  \n",
       "0          84           8              5.50  1643152035  \n",
       "1          60           0              8.05  1643152010  \n",
       "2          93          20              2.30  1643152038  \n",
       "3          81          75             26.46  1643151838  \n",
       "4          97          75             11.99  1643152040  \n",
       "5          92         100              8.08  1643152042  \n",
       "6          86         100             16.11  1643152043  \n",
       "7          47          15              8.90  1643152053  \n",
       "8          67          74              8.23  1643151990  \n",
       "9          91         100             30.13  1643152038  "
      ]
     },
     "execution_count": 165,
     "metadata": {},
     "output_type": "execute_result"
    }
   ],
   "source": [
    "city_data_df = pd.DataFrame(places)\n",
    "\n",
    "#viewing the dataframe\n",
    "city_data_df.head(10)"
   ]
  },
  {
   "cell_type": "code",
   "execution_count": 166,
   "metadata": {},
   "outputs": [
    {
     "data": {
      "text/html": [
       "<div>\n",
       "<style scoped>\n",
       "    .dataframe tbody tr th:only-of-type {\n",
       "        vertical-align: middle;\n",
       "    }\n",
       "\n",
       "    .dataframe tbody tr th {\n",
       "        vertical-align: top;\n",
       "    }\n",
       "\n",
       "    .dataframe thead th {\n",
       "        text-align: right;\n",
       "    }\n",
       "</style>\n",
       "<table border=\"1\" class=\"dataframe\">\n",
       "  <thead>\n",
       "    <tr style=\"text-align: right;\">\n",
       "      <th></th>\n",
       "      <th>Latitude</th>\n",
       "      <th>Longitude</th>\n",
       "      <th>Temperature (F)</th>\n",
       "      <th>Max Temp (F)</th>\n",
       "      <th>Humidity %</th>\n",
       "      <th>Cloudiness</th>\n",
       "      <th>Wind Speed (mph)</th>\n",
       "      <th>Date</th>\n",
       "    </tr>\n",
       "  </thead>\n",
       "  <tbody>\n",
       "    <tr>\n",
       "      <th>count</th>\n",
       "      <td>544.000000</td>\n",
       "      <td>544.000000</td>\n",
       "      <td>544.000000</td>\n",
       "      <td>544.000000</td>\n",
       "      <td>544.000000</td>\n",
       "      <td>544.000000</td>\n",
       "      <td>544.000000</td>\n",
       "      <td>5.440000e+02</td>\n",
       "    </tr>\n",
       "    <tr>\n",
       "      <th>mean</th>\n",
       "      <td>20.099162</td>\n",
       "      <td>17.257151</td>\n",
       "      <td>48.890901</td>\n",
       "      <td>49.575478</td>\n",
       "      <td>75.250000</td>\n",
       "      <td>61.156250</td>\n",
       "      <td>7.814779</td>\n",
       "      <td>1.643153e+09</td>\n",
       "    </tr>\n",
       "    <tr>\n",
       "      <th>std</th>\n",
       "      <td>33.145578</td>\n",
       "      <td>88.692192</td>\n",
       "      <td>30.974016</td>\n",
       "      <td>30.897662</td>\n",
       "      <td>20.230713</td>\n",
       "      <td>39.172841</td>\n",
       "      <td>6.034248</td>\n",
       "      <td>2.576868e+02</td>\n",
       "    </tr>\n",
       "    <tr>\n",
       "      <th>min</th>\n",
       "      <td>-54.800000</td>\n",
       "      <td>-179.166700</td>\n",
       "      <td>-43.640000</td>\n",
       "      <td>-43.640000</td>\n",
       "      <td>9.000000</td>\n",
       "      <td>0.000000</td>\n",
       "      <td>0.000000</td>\n",
       "      <td>1.643152e+09</td>\n",
       "    </tr>\n",
       "    <tr>\n",
       "      <th>25%</th>\n",
       "      <td>-6.908575</td>\n",
       "      <td>-60.897200</td>\n",
       "      <td>29.745000</td>\n",
       "      <td>30.630000</td>\n",
       "      <td>67.000000</td>\n",
       "      <td>20.000000</td>\n",
       "      <td>3.575000</td>\n",
       "      <td>1.643152e+09</td>\n",
       "    </tr>\n",
       "    <tr>\n",
       "      <th>50%</th>\n",
       "      <td>22.622500</td>\n",
       "      <td>17.954800</td>\n",
       "      <td>59.730000</td>\n",
       "      <td>60.440000</td>\n",
       "      <td>79.000000</td>\n",
       "      <td>75.000000</td>\n",
       "      <td>6.405000</td>\n",
       "      <td>1.643153e+09</td>\n",
       "    </tr>\n",
       "    <tr>\n",
       "      <th>75%</th>\n",
       "      <td>48.690550</td>\n",
       "      <td>99.472150</td>\n",
       "      <td>75.427500</td>\n",
       "      <td>75.490000</td>\n",
       "      <td>90.000000</td>\n",
       "      <td>100.000000</td>\n",
       "      <td>10.360000</td>\n",
       "      <td>1.643153e+09</td>\n",
       "    </tr>\n",
       "    <tr>\n",
       "      <th>max</th>\n",
       "      <td>78.218600</td>\n",
       "      <td>179.316700</td>\n",
       "      <td>96.130000</td>\n",
       "      <td>96.130000</td>\n",
       "      <td>100.000000</td>\n",
       "      <td>100.000000</td>\n",
       "      <td>47.710000</td>\n",
       "      <td>1.643153e+09</td>\n",
       "    </tr>\n",
       "  </tbody>\n",
       "</table>\n",
       "</div>"
      ],
      "text/plain": [
       "         Latitude   Longitude  Temperature (F)  Max Temp (F)  Humidity %  \\\n",
       "count  544.000000  544.000000       544.000000    544.000000  544.000000   \n",
       "mean    20.099162   17.257151        48.890901     49.575478   75.250000   \n",
       "std     33.145578   88.692192        30.974016     30.897662   20.230713   \n",
       "min    -54.800000 -179.166700       -43.640000    -43.640000    9.000000   \n",
       "25%     -6.908575  -60.897200        29.745000     30.630000   67.000000   \n",
       "50%     22.622500   17.954800        59.730000     60.440000   79.000000   \n",
       "75%     48.690550   99.472150        75.427500     75.490000   90.000000   \n",
       "max     78.218600  179.316700        96.130000     96.130000  100.000000   \n",
       "\n",
       "       Cloudiness  Wind Speed (mph)          Date  \n",
       "count  544.000000        544.000000  5.440000e+02  \n",
       "mean    61.156250          7.814779  1.643153e+09  \n",
       "std     39.172841          6.034248  2.576868e+02  \n",
       "min      0.000000          0.000000  1.643152e+09  \n",
       "25%     20.000000          3.575000  1.643152e+09  \n",
       "50%     75.000000          6.405000  1.643153e+09  \n",
       "75%    100.000000         10.360000  1.643153e+09  \n",
       "max    100.000000         47.710000  1.643153e+09  "
      ]
     },
     "execution_count": 166,
     "metadata": {},
     "output_type": "execute_result"
    }
   ],
   "source": [
    "#summary statistics\n",
    "city_data_df.describe()"
   ]
  },
  {
   "cell_type": "code",
   "execution_count": 167,
   "metadata": {},
   "outputs": [],
   "source": [
    "#writing city_Data_df to a csv\n",
    "city_data_df.to_csv(\"output_data/cities_weather.csv\",\n",
    "                  encoding=\"utf-8\", index=False, header=True)"
   ]
  },
  {
   "cell_type": "markdown",
   "metadata": {},
   "source": [
    "## Inspect the data and remove the cities where the humidity > 100%.\n",
    "----\n",
    "When this analysis was conducted, on January 25, 2022, there were no cities with humidity greater than 100 percent."
   ]
  },
  {
   "cell_type": "code",
   "execution_count": 168,
   "metadata": {},
   "outputs": [
    {
     "data": {
      "text/plain": [
       "Int64Index([], dtype='int64')"
      ]
     },
     "execution_count": 168,
     "metadata": {},
     "output_type": "execute_result"
    }
   ],
   "source": [
    "#checking for any cities with humidity greater than 100%\n",
    "# obtaining the indices of cities that have humidity over 100%.\n",
    "high_humid = city_data_df[city_data_df[\"Humidity %\"] > 100].index\n",
    "high_humid"
   ]
  },
  {
   "cell_type": "code",
   "execution_count": 169,
   "metadata": {},
   "outputs": [
    {
     "data": {
      "text/html": [
       "<div>\n",
       "<style scoped>\n",
       "    .dataframe tbody tr th:only-of-type {\n",
       "        vertical-align: middle;\n",
       "    }\n",
       "\n",
       "    .dataframe tbody tr th {\n",
       "        vertical-align: top;\n",
       "    }\n",
       "\n",
       "    .dataframe thead th {\n",
       "        text-align: right;\n",
       "    }\n",
       "</style>\n",
       "<table border=\"1\" class=\"dataframe\">\n",
       "  <thead>\n",
       "    <tr style=\"text-align: right;\">\n",
       "      <th></th>\n",
       "      <th>City</th>\n",
       "      <th>Country</th>\n",
       "      <th>Latitude</th>\n",
       "      <th>Longitude</th>\n",
       "      <th>Temperature (F)</th>\n",
       "      <th>Max Temp (F)</th>\n",
       "      <th>Humidity %</th>\n",
       "      <th>Cloudiness</th>\n",
       "      <th>Wind Speed (mph)</th>\n",
       "      <th>Date</th>\n",
       "    </tr>\n",
       "  </thead>\n",
       "  <tbody>\n",
       "    <tr>\n",
       "      <th>0</th>\n",
       "      <td>henties bay</td>\n",
       "      <td>NA</td>\n",
       "      <td>-22.1160</td>\n",
       "      <td>14.2845</td>\n",
       "      <td>66.85</td>\n",
       "      <td>66.85</td>\n",
       "      <td>84</td>\n",
       "      <td>8</td>\n",
       "      <td>5.50</td>\n",
       "      <td>1643152035</td>\n",
       "    </tr>\n",
       "    <tr>\n",
       "      <th>1</th>\n",
       "      <td>bethel</td>\n",
       "      <td>US</td>\n",
       "      <td>41.3712</td>\n",
       "      <td>-73.4140</td>\n",
       "      <td>31.98</td>\n",
       "      <td>36.05</td>\n",
       "      <td>60</td>\n",
       "      <td>0</td>\n",
       "      <td>8.05</td>\n",
       "      <td>1643152010</td>\n",
       "    </tr>\n",
       "    <tr>\n",
       "      <th>2</th>\n",
       "      <td>saint-francois</td>\n",
       "      <td>FR</td>\n",
       "      <td>46.4154</td>\n",
       "      <td>3.9054</td>\n",
       "      <td>26.04</td>\n",
       "      <td>26.67</td>\n",
       "      <td>93</td>\n",
       "      <td>20</td>\n",
       "      <td>2.30</td>\n",
       "      <td>1643152038</td>\n",
       "    </tr>\n",
       "    <tr>\n",
       "      <th>3</th>\n",
       "      <td>ushuaia</td>\n",
       "      <td>AR</td>\n",
       "      <td>-54.8000</td>\n",
       "      <td>-68.3000</td>\n",
       "      <td>42.46</td>\n",
       "      <td>42.46</td>\n",
       "      <td>81</td>\n",
       "      <td>75</td>\n",
       "      <td>26.46</td>\n",
       "      <td>1643151838</td>\n",
       "    </tr>\n",
       "    <tr>\n",
       "      <th>4</th>\n",
       "      <td>mar del plata</td>\n",
       "      <td>AR</td>\n",
       "      <td>-38.0023</td>\n",
       "      <td>-57.5575</td>\n",
       "      <td>71.91</td>\n",
       "      <td>73.09</td>\n",
       "      <td>97</td>\n",
       "      <td>75</td>\n",
       "      <td>11.99</td>\n",
       "      <td>1643152040</td>\n",
       "    </tr>\n",
       "  </tbody>\n",
       "</table>\n",
       "</div>"
      ],
      "text/plain": [
       "             City Country  Latitude  Longitude  Temperature (F)  Max Temp (F)  \\\n",
       "0     henties bay      NA  -22.1160    14.2845            66.85         66.85   \n",
       "1          bethel      US   41.3712   -73.4140            31.98         36.05   \n",
       "2  saint-francois      FR   46.4154     3.9054            26.04         26.67   \n",
       "3         ushuaia      AR  -54.8000   -68.3000            42.46         42.46   \n",
       "4   mar del plata      AR  -38.0023   -57.5575            71.91         73.09   \n",
       "\n",
       "   Humidity %  Cloudiness  Wind Speed (mph)        Date  \n",
       "0          84           8              5.50  1643152035  \n",
       "1          60           0              8.05  1643152010  \n",
       "2          93          20              2.30  1643152038  \n",
       "3          81          75             26.46  1643151838  \n",
       "4          97          75             11.99  1643152040  "
      ]
     },
     "execution_count": 169,
     "metadata": {},
     "output_type": "execute_result"
    }
   ],
   "source": [
    "clean_city_data=city_data_df.drop(high_humid, inplace=False)\n",
    "\n",
    "clean_city_data.head()"
   ]
  },
  {
   "cell_type": "markdown",
   "metadata": {},
   "source": [
    "## Plotting the Data\n",
    "* Use proper labeling of the plots using plot titles (including date of analysis) and axes labels.\n",
    "* Save the plotted figures as .pngs."
   ]
  },
  {
   "cell_type": "code",
   "execution_count": 170,
   "metadata": {},
   "outputs": [],
   "source": [
    "#importing library to show the current date and time\n",
    "from datetime import date"
   ]
  },
  {
   "cell_type": "markdown",
   "metadata": {},
   "source": [
    "## Latitude vs. Temperature Plot"
   ]
  },
  {
   "cell_type": "code",
   "execution_count": 171,
   "metadata": {
    "scrolled": true
   },
   "outputs": [
    {
     "data": {
      "image/png": "[encoded data removed]",
      "text/plain": [
       "<Figure size 432x288 with 1 Axes>"
      ]
     },
     "metadata": {
      "needs_background": "light"
     },
     "output_type": "display_data"
    },
    {
     "data": {
      "text/plain": [
       "datetime.date(2022, 1, 25)"
      ]
     },
     "execution_count": 171,
     "metadata": {},
     "output_type": "execute_result"
    }
   ],
   "source": [
    "#creating a scatterplot\n",
    "x_values = clean_city_data['Latitude']\n",
    "y_values = clean_city_data['Temperature (F)']\n",
    "plt.scatter(x_values, y_values)\n",
    "plt.xlabel('Latitude')\n",
    "plt.ylabel('Max Temp (F)')\n",
    "today = date.today()\n",
    "plt.title(f'City Latitude vs. Max Temperature ({today})')\n",
    "\n",
    "#saving the figure as a png\n",
    "plt.savefig(\"images/LatvsTemp.png\")\n",
    "\n",
    "#showing the figure\n",
    "plt.show()\n",
    "today"
   ]
  },
  {
   "cell_type": "markdown",
   "metadata": {},
   "source": [
    "Observations about Temperature: This plot shows the relation between latitude and the maximum temperature for the sampled cities. There appears to be a curvilinear relationship between latitude and maximum temperature. A finer-grained analysis of northern versus southern hemisphere could ellucidate clearer trends."
   ]
  },
  {
   "cell_type": "markdown",
   "metadata": {},
   "source": [
    "## Latitude vs. Humidity Plot"
   ]
  },
  {
   "cell_type": "code",
   "execution_count": 172,
   "metadata": {},
   "outputs": [
    {
     "data": {
      "image/png": "[encoded data removed]",
      "text/plain": [
       "<Figure size 432x288 with 1 Axes>"
      ]
     },
     "metadata": {
      "needs_background": "light"
     },
     "output_type": "display_data"
    }
   ],
   "source": [
    "#creating a scatterplot for latitude versus humidity\n",
    "x_values = clean_city_data['Latitude']\n",
    "y_values = clean_city_data['Humidity %']\n",
    "plt.scatter(x_values, y_values)\n",
    "plt.xlabel('Latitude')\n",
    "plt.ylabel('Humidity %')\n",
    "today = date.today()\n",
    "plt.title(f'City Latitude vs. Humidity ({today})')\n",
    "\n",
    "#saving the figure as a png\n",
    "plt.savefig(\"images/LatvsHumidity.png\")\n",
    "\n",
    "#showing the figure\n",
    "plt.show()"
   ]
  },
  {
   "cell_type": "markdown",
   "metadata": {},
   "source": [
    "Observations about Humidity: This graph shows the relation between the latitude and percent humidity for the sampled cities. There does not appear to be a relation between latitude and humidity."
   ]
  },
  {
   "cell_type": "markdown",
   "metadata": {},
   "source": [
    "## Latitude vs. Cloudiness Plot"
   ]
  },
  {
   "cell_type": "code",
   "execution_count": 173,
   "metadata": {},
   "outputs": [
    {
     "data": {
      "image/png": "[encoded data removed]",
      "text/plain": [
       "<Figure size 432x288 with 1 Axes>"
      ]
     },
     "metadata": {
      "needs_background": "light"
     },
     "output_type": "display_data"
    }
   ],
   "source": [
    "#creating a scatterplot for latitude versus cloudiness\n",
    "x_values = clean_city_data['Latitude']\n",
    "y_values = clean_city_data['Cloudiness']\n",
    "plt.scatter(x_values, y_values)\n",
    "plt.xlabel('Latitude')\n",
    "plt.ylabel('Cloudiness %')\n",
    "today = date.today()\n",
    "plt.title(f'City Latitude vs. Cloudiness ({today})')\n",
    "\n",
    "#saving the figure as a png\n",
    "plt.savefig(\"images/LatvsCloudiness.png\")\n",
    "\n",
    "#showing the figure\n",
    "plt.show()"
   ]
  },
  {
   "cell_type": "markdown",
   "metadata": {},
   "source": [
    "Observations about Cloudiness: This plot shows the relation between latitude and cloudiness for the sampled cities. There does not appear to be a relation between latitude and cloudiness."
   ]
  },
  {
   "cell_type": "markdown",
   "metadata": {},
   "source": [
    "## Latitude vs. Wind Speed Plot"
   ]
  },
  {
   "cell_type": "code",
   "execution_count": 174,
   "metadata": {},
   "outputs": [
    {
     "data": {
      "image/png": "[encoded data removed]",
      "text/plain": [
       "<Figure size 432x288 with 1 Axes>"
      ]
     },
     "metadata": {
      "needs_background": "light"
     },
     "output_type": "display_data"
    }
   ],
   "source": [
    "#creating a scatterplot for latitude versus cloudiness\n",
    "x_values = clean_city_data['Latitude']\n",
    "y_values = clean_city_data['Wind Speed (mph)']\n",
    "plt.scatter(x_values, y_values)\n",
    "plt.xlabel('Latitude')\n",
    "plt.ylabel('Cloudiness %')\n",
    "today = date.today()\n",
    "plt.title(f'City Latitude vs. Wind Speed ({today})')\n",
    "\n",
    "#saving the figure as a png\n",
    "plt.savefig(\"images/LatvsWindSpeed.png\")\n",
    "\n",
    "#showing the figure\n",
    "plt.show()"
   ]
  },
  {
   "cell_type": "markdown",
   "metadata": {},
   "source": [
    "Observations about wind speed: This plot shows the relation between latitude and wind spped among the sampled cities. There does no appear to be a relation between latitude and wind speed."
   ]
  },
  {
   "cell_type": "markdown",
   "metadata": {},
   "source": [
    "## Linear Regression"
   ]
  },
  {
   "cell_type": "code",
   "execution_count": 175,
   "metadata": {},
   "outputs": [
    {
     "data": {
      "text/html": [
       "<div>\n",
       "<style scoped>\n",
       "    .dataframe tbody tr th:only-of-type {\n",
       "        vertical-align: middle;\n",
       "    }\n",
       "\n",
       "    .dataframe tbody tr th {\n",
       "        vertical-align: top;\n",
       "    }\n",
       "\n",
       "    .dataframe thead th {\n",
       "        text-align: right;\n",
       "    }\n",
       "</style>\n",
       "<table border=\"1\" class=\"dataframe\">\n",
       "  <thead>\n",
       "    <tr style=\"text-align: right;\">\n",
       "      <th></th>\n",
       "      <th>City</th>\n",
       "      <th>Country</th>\n",
       "      <th>Latitude</th>\n",
       "      <th>Longitude</th>\n",
       "      <th>Temperature (F)</th>\n",
       "      <th>Max Temp (F)</th>\n",
       "      <th>Humidity %</th>\n",
       "      <th>Cloudiness</th>\n",
       "      <th>Wind Speed (mph)</th>\n",
       "      <th>Date</th>\n",
       "    </tr>\n",
       "  </thead>\n",
       "  <tbody>\n",
       "    <tr>\n",
       "      <th>1</th>\n",
       "      <td>bethel</td>\n",
       "      <td>US</td>\n",
       "      <td>41.3712</td>\n",
       "      <td>-73.4140</td>\n",
       "      <td>31.98</td>\n",
       "      <td>36.05</td>\n",
       "      <td>60</td>\n",
       "      <td>0</td>\n",
       "      <td>8.05</td>\n",
       "      <td>1643152010</td>\n",
       "    </tr>\n",
       "    <tr>\n",
       "      <th>2</th>\n",
       "      <td>saint-francois</td>\n",
       "      <td>FR</td>\n",
       "      <td>46.4154</td>\n",
       "      <td>3.9054</td>\n",
       "      <td>26.04</td>\n",
       "      <td>26.67</td>\n",
       "      <td>93</td>\n",
       "      <td>20</td>\n",
       "      <td>2.30</td>\n",
       "      <td>1643152038</td>\n",
       "    </tr>\n",
       "    <tr>\n",
       "      <th>6</th>\n",
       "      <td>bronnoysund</td>\n",
       "      <td>NO</td>\n",
       "      <td>65.4625</td>\n",
       "      <td>12.1997</td>\n",
       "      <td>33.80</td>\n",
       "      <td>36.66</td>\n",
       "      <td>86</td>\n",
       "      <td>100</td>\n",
       "      <td>16.11</td>\n",
       "      <td>1643152043</td>\n",
       "    </tr>\n",
       "    <tr>\n",
       "      <th>7</th>\n",
       "      <td>yumen</td>\n",
       "      <td>CN</td>\n",
       "      <td>40.2833</td>\n",
       "      <td>97.2000</td>\n",
       "      <td>16.97</td>\n",
       "      <td>16.97</td>\n",
       "      <td>47</td>\n",
       "      <td>15</td>\n",
       "      <td>8.90</td>\n",
       "      <td>1643152053</td>\n",
       "    </tr>\n",
       "    <tr>\n",
       "      <th>8</th>\n",
       "      <td>albany</td>\n",
       "      <td>US</td>\n",
       "      <td>42.6001</td>\n",
       "      <td>-73.9662</td>\n",
       "      <td>24.03</td>\n",
       "      <td>27.27</td>\n",
       "      <td>67</td>\n",
       "      <td>74</td>\n",
       "      <td>8.23</td>\n",
       "      <td>1643151990</td>\n",
       "    </tr>\n",
       "  </tbody>\n",
       "</table>\n",
       "</div>"
      ],
      "text/plain": [
       "             City Country  Latitude  Longitude  Temperature (F)  Max Temp (F)  \\\n",
       "1          bethel      US   41.3712   -73.4140            31.98         36.05   \n",
       "2  saint-francois      FR   46.4154     3.9054            26.04         26.67   \n",
       "6     bronnoysund      NO   65.4625    12.1997            33.80         36.66   \n",
       "7           yumen      CN   40.2833    97.2000            16.97         16.97   \n",
       "8          albany      US   42.6001   -73.9662            24.03         27.27   \n",
       "\n",
       "   Humidity %  Cloudiness  Wind Speed (mph)        Date  \n",
       "1          60           0              8.05  1643152010  \n",
       "2          93          20              2.30  1643152038  \n",
       "6          86         100             16.11  1643152043  \n",
       "7          47          15              8.90  1643152053  \n",
       "8          67          74              8.23  1643151990  "
      ]
     },
     "execution_count": 175,
     "metadata": {},
     "output_type": "execute_result"
    }
   ],
   "source": [
    "#creating dataframe for just the northern hemisphere data\n",
    "north_hem = clean_city_data.loc[clean_city_data[\"Latitude\"] >= 0]\n",
    "\n",
    "#printing the dataframe\n",
    "north_hem.head()\n"
   ]
  },
  {
   "cell_type": "code",
   "execution_count": 176,
   "metadata": {},
   "outputs": [
    {
     "data": {
      "text/html": [
       "<div>\n",
       "<style scoped>\n",
       "    .dataframe tbody tr th:only-of-type {\n",
       "        vertical-align: middle;\n",
       "    }\n",
       "\n",
       "    .dataframe tbody tr th {\n",
       "        vertical-align: top;\n",
       "    }\n",
       "\n",
       "    .dataframe thead th {\n",
       "        text-align: right;\n",
       "    }\n",
       "</style>\n",
       "<table border=\"1\" class=\"dataframe\">\n",
       "  <thead>\n",
       "    <tr style=\"text-align: right;\">\n",
       "      <th></th>\n",
       "      <th>City</th>\n",
       "      <th>Country</th>\n",
       "      <th>Latitude</th>\n",
       "      <th>Longitude</th>\n",
       "      <th>Temperature (F)</th>\n",
       "      <th>Max Temp (F)</th>\n",
       "      <th>Humidity %</th>\n",
       "      <th>Cloudiness</th>\n",
       "      <th>Wind Speed (mph)</th>\n",
       "      <th>Date</th>\n",
       "    </tr>\n",
       "  </thead>\n",
       "  <tbody>\n",
       "    <tr>\n",
       "      <th>0</th>\n",
       "      <td>henties bay</td>\n",
       "      <td>NA</td>\n",
       "      <td>-22.1160</td>\n",
       "      <td>14.2845</td>\n",
       "      <td>66.85</td>\n",
       "      <td>66.85</td>\n",
       "      <td>84</td>\n",
       "      <td>8</td>\n",
       "      <td>5.50</td>\n",
       "      <td>1643152035</td>\n",
       "    </tr>\n",
       "    <tr>\n",
       "      <th>3</th>\n",
       "      <td>ushuaia</td>\n",
       "      <td>AR</td>\n",
       "      <td>-54.8000</td>\n",
       "      <td>-68.3000</td>\n",
       "      <td>42.46</td>\n",
       "      <td>42.46</td>\n",
       "      <td>81</td>\n",
       "      <td>75</td>\n",
       "      <td>26.46</td>\n",
       "      <td>1643151838</td>\n",
       "    </tr>\n",
       "    <tr>\n",
       "      <th>4</th>\n",
       "      <td>mar del plata</td>\n",
       "      <td>AR</td>\n",
       "      <td>-38.0023</td>\n",
       "      <td>-57.5575</td>\n",
       "      <td>71.91</td>\n",
       "      <td>73.09</td>\n",
       "      <td>97</td>\n",
       "      <td>75</td>\n",
       "      <td>11.99</td>\n",
       "      <td>1643152040</td>\n",
       "    </tr>\n",
       "    <tr>\n",
       "      <th>5</th>\n",
       "      <td>kruisfontein</td>\n",
       "      <td>ZA</td>\n",
       "      <td>-34.0033</td>\n",
       "      <td>24.7314</td>\n",
       "      <td>67.89</td>\n",
       "      <td>67.89</td>\n",
       "      <td>92</td>\n",
       "      <td>100</td>\n",
       "      <td>8.08</td>\n",
       "      <td>1643152042</td>\n",
       "    </tr>\n",
       "    <tr>\n",
       "      <th>11</th>\n",
       "      <td>vaini</td>\n",
       "      <td>TO</td>\n",
       "      <td>-21.2000</td>\n",
       "      <td>-175.2000</td>\n",
       "      <td>79.59</td>\n",
       "      <td>79.59</td>\n",
       "      <td>71</td>\n",
       "      <td>23</td>\n",
       "      <td>13.60</td>\n",
       "      <td>1643151984</td>\n",
       "    </tr>\n",
       "  </tbody>\n",
       "</table>\n",
       "</div>"
      ],
      "text/plain": [
       "             City Country  Latitude  Longitude  Temperature (F)  Max Temp (F)  \\\n",
       "0     henties bay      NA  -22.1160    14.2845            66.85         66.85   \n",
       "3         ushuaia      AR  -54.8000   -68.3000            42.46         42.46   \n",
       "4   mar del plata      AR  -38.0023   -57.5575            71.91         73.09   \n",
       "5    kruisfontein      ZA  -34.0033    24.7314            67.89         67.89   \n",
       "11          vaini      TO  -21.2000  -175.2000            79.59         79.59   \n",
       "\n",
       "    Humidity %  Cloudiness  Wind Speed (mph)        Date  \n",
       "0           84           8              5.50  1643152035  \n",
       "3           81          75             26.46  1643151838  \n",
       "4           97          75             11.99  1643152040  \n",
       "5           92         100              8.08  1643152042  \n",
       "11          71          23             13.60  1643151984  "
      ]
     },
     "execution_count": 176,
     "metadata": {},
     "output_type": "execute_result"
    }
   ],
   "source": [
    "#creating dataframe for just the southern hemisphere data\n",
    "south_hem = clean_city_data.loc[clean_city_data[\"Latitude\"] < 0]\n",
    "\n",
    "#viewing the dataframe\n",
    "south_hem.head()"
   ]
  },
  {
   "cell_type": "markdown",
   "metadata": {},
   "source": [
    "####  Northern Hemisphere - Max Temp vs. Latitude Linear Regression"
   ]
  },
  {
   "cell_type": "code",
   "execution_count": 177,
   "metadata": {},
   "outputs": [
    {
     "name": "stdout",
     "output_type": "stream",
     "text": [
      "y = -1.27x +87.56\n"
     ]
    }
   ],
   "source": [
    "#computing the regression for temperature versus latitude\n",
    "#declaring x and y\n",
    "north_lat = north_hem['Latitude']\n",
    "north_temp = north_hem['Max Temp (F)']\n",
    "\n",
    "#performing the regression\n",
    "(slope, intercept, rvalue, pvalue, stderr) = stats.linregress(north_lat, north_temp)\n",
    "\n",
    "#obtaining regression values\n",
    "regress_values = north_lat * slope + intercept\n",
    "\n",
    "#creating the equation string to be printed on the chart\n",
    "line_eq = \"y = \" + str(round(slope,2)) + \"x +\" + str(round(intercept,2))\n",
    "\n",
    "#printing the line\n",
    "print(line_eq)"
   ]
  },
  {
   "cell_type": "code",
   "execution_count": 178,
   "metadata": {},
   "outputs": [
    {
     "name": "stdout",
     "output_type": "stream",
     "text": [
      "The r-value is: 0.6991696379298787\n"
     ]
    },
    {
     "data": {
      "image/png": "[encoded data removed]",
      "text/plain": [
       "<Figure size 432x288 with 1 Axes>"
      ]
     },
     "metadata": {
      "needs_background": "light"
     },
     "output_type": "display_data"
    }
   ],
   "source": [
    "#plotting a scatter plot for the maximum temperature in the northern hemisphere\n",
    "plt.scatter(north_lat, north_temp)\n",
    "plt.plot(north_lat,regress_values,\"r-\")\n",
    "\n",
    "#label the plot and annotate the line equation\n",
    "plt.xlabel('Latitude')\n",
    "plt.ylabel('Max Temperature (F)')\n",
    "plt.annotate(line_eq,(10,-10), fontsize=15, color = \"green\")\n",
    "today = date.today()\n",
    "plt.title(f'Northern Cities Latitude versus Max Temperature ({today})')\n",
    "\n",
    "#print r value for the correlation\n",
    "print(f\"The r-value is: {rvalue**2}\")\n",
    "      \n",
    "#saving the plot as a png\n",
    "plt.savefig(\"images/NorthMaxTempvsLat.png\")\n",
    "      \n",
    "#showing the plot\n",
    "plt.show()"
   ]
  },
  {
   "cell_type": "markdown",
   "metadata": {},
   "source": [
    "####  Southern Hemisphere - Max Temp vs. Latitude Linear Regression"
   ]
  },
  {
   "cell_type": "code",
   "execution_count": 179,
   "metadata": {},
   "outputs": [
    {
     "name": "stdout",
     "output_type": "stream",
     "text": [
      "y = 0.25x+79.26\n"
     ]
    }
   ],
   "source": [
    "#computing the regression for temperature versus latitude\n",
    "#declaring x and y\n",
    "south_lat = south_hem['Latitude']\n",
    "south_temp = south_hem['Max Temp (F)']\n",
    "\n",
    "#performing the regression\n",
    "(slope, intercept, rvalue, pvalue, stderr) = stats.linregress(south_lat, south_temp)\n",
    "\n",
    "#obtaining regression values\n",
    "regress_values = south_lat * slope + intercept\n",
    "\n",
    "#creating the equation string to be printed on the chart\n",
    "line_eq = \"y = \" + str(round(slope,2)) + \"x+\" + str(round(intercept,2))\n",
    "\n",
    "#printing the line\n",
    "print(line_eq)"
   ]
  },
  {
   "cell_type": "code",
   "execution_count": 180,
   "metadata": {},
   "outputs": [
    {
     "name": "stdout",
     "output_type": "stream",
     "text": [
      "The r-value is: 0.15311991988734208\n"
     ]
    },
    {
     "data": {
      "image/png": "[encoded data removed]",
      "text/plain": [
       "<Figure size 432x288 with 1 Axes>"
      ]
     },
     "metadata": {
      "needs_background": "light"
     },
     "output_type": "display_data"
    }
   ],
   "source": [
    "#plotting a scatter plot for the maximum temperature in the northern hemisphere\n",
    "plt.scatter(south_lat, south_temp)\n",
    "plt.plot(south_lat,regress_values,\"r-\")\n",
    "\n",
    "#label the plot and annotate the line equation\n",
    "plt.xlabel('Latitude')\n",
    "plt.ylabel('Max Temperature (F)')\n",
    "today = date.today()\n",
    "plt.title(f'Southern Cities Latitude versus Max Temperature ({today})')\n",
    "plt.annotate(line_eq,(-40,50), fontsize=15, color = \"green\")\n",
    "\n",
    "#print r value for the correlation\n",
    "print(f\"The r-value is: {rvalue**2}\")\n",
    "      \n",
    "#saving the plot as a png\n",
    "plt.savefig(\"images/SouthMaxTempvsLat.png\")\n",
    "      \n",
    "#showing the plot\n",
    "plt.show()"
   ]
  },
  {
   "cell_type": "markdown",
   "metadata": {},
   "source": [
    "Observations About Maximum Temperature:These plots show the relation between latitude and the maximum temperature in the northern and souther hemispheres. The plot for the northern hemisphere reveals there is a fairly strong, positive correlation between latitude and maximum temperature (r2= 0.70), such that the further north the city, the lower the maximum temperature.\n",
    "\n",
    "By contrast, the relation between latitude and maximum temperature for the southern cities is very weak (r2=0.15), which could suggest there is no relation between latitude and maximum temperature."
   ]
  },
  {
   "cell_type": "markdown",
   "metadata": {},
   "source": [
    "####  Northern Hemisphere - Humidity (%) vs. Latitude Linear Regression"
   ]
  },
  {
   "cell_type": "code",
   "execution_count": 181,
   "metadata": {},
   "outputs": [
    {
     "name": "stdout",
     "output_type": "stream",
     "text": [
      "y = 0.45x+56.82\n"
     ]
    }
   ],
   "source": [
    "#computing the regression for humidity versus latitude\n",
    "#declaring x and y\n",
    "north_lat = north_hem['Latitude']\n",
    "north_humid = north_hem['Humidity %']\n",
    "\n",
    "#performing the regression\n",
    "(slope, intercept, rvalue, pvalue, stderr) = stats.linregress(north_lat, north_humid)\n",
    "\n",
    "#obtaining regression values\n",
    "regress_values = north_lat * slope + intercept\n",
    "\n",
    "#creating the equation string to be printed on the chart\n",
    "line_eq = \"y = \" + str(round(slope,2)) + \"x+\" + str(round(intercept,2))\n",
    "\n",
    "#printing the line\n",
    "print(line_eq)"
   ]
  },
  {
   "cell_type": "code",
   "execution_count": 182,
   "metadata": {},
   "outputs": [
    {
     "name": "stdout",
     "output_type": "stream",
     "text": [
      "The r-value is: 0.17172915150265317\n"
     ]
    },
    {
     "data": {
      "image/png": "[encoded data removed]",
      "text/plain": [
       "<Figure size 432x288 with 1 Axes>"
      ]
     },
     "metadata": {
      "needs_background": "light"
     },
     "output_type": "display_data"
    }
   ],
   "source": [
    "#plotting a scatter plot for humidity and latitude in the northern hemisphere\n",
    "plt.scatter(north_lat, north_humid)\n",
    "plt.plot(north_lat,regress_values,\"r-\")\n",
    "\n",
    "#label the plot and annotate the line equation\n",
    "plt.xlabel('Latitude')\n",
    "plt.ylabel('Humidity &')\n",
    "plt.annotate(line_eq,(40,15), fontsize=15, color = \"green\")\n",
    "today = date.today()\n",
    "plt.title(f'Northern Cities Latitude versus Humidity ({today})')\n",
    "\n",
    "#print r value for the correlation\n",
    "print(f\"The r-value is: {rvalue**2}\")\n",
    "      \n",
    "#saving the plot as a png\n",
    "plt.savefig(\"images/NorthHumidvsLat.png\")\n",
    "      \n",
    "#showing the plot\n",
    "plt.show()"
   ]
  },
  {
   "cell_type": "markdown",
   "metadata": {},
   "source": [
    "####  Southern Hemisphere - Humidity (%) vs. Latitude Linear Regression"
   ]
  },
  {
   "cell_type": "code",
   "execution_count": 183,
   "metadata": {},
   "outputs": [
    {
     "name": "stdout",
     "output_type": "stream",
     "text": [
      "y = 0.31x+83.62\n"
     ]
    }
   ],
   "source": [
    "#computing the regression for humidity versus latitude\n",
    "#declaring x and y\n",
    "south_lat = south_hem['Latitude']\n",
    "south_humid = south_hem['Humidity %']\n",
    "\n",
    "#performing the regression\n",
    "(slope, intercept, rvalue, pvalue, stderr) = stats.linregress(south_lat, south_humid)\n",
    "\n",
    "#obtaining regression values\n",
    "regress_values = south_lat * slope + intercept\n",
    "\n",
    "#creating the equation string to be printed on the chart\n",
    "line_eq = \"y = \" + str(round(slope,2)) + \"x+\" + str(round(intercept,2))\n",
    "\n",
    "#printing the line\n",
    "print(line_eq)"
   ]
  },
  {
   "cell_type": "code",
   "execution_count": 184,
   "metadata": {},
   "outputs": [
    {
     "name": "stdout",
     "output_type": "stream",
     "text": [
      "The r-value is: 0.07924784070640643\n"
     ]
    },
    {
     "data": {
      "image/png": "[encoded data removed]",
      "text/plain": [
       "<Figure size 432x288 with 1 Axes>"
      ]
     },
     "metadata": {
      "needs_background": "light"
     },
     "output_type": "display_data"
    }
   ],
   "source": [
    "#plotting a scatter plot for humidity and latitude for the southern hemisphere\n",
    "plt.scatter(south_lat, south_humid)\n",
    "plt.plot(south_lat,regress_values,\"r-\")\n",
    "\n",
    "#label the plot and annotate the line equation\n",
    "plt.xlabel('Latitude')\n",
    "plt.ylabel('Humidity %')\n",
    "plt.annotate(line_eq,(-20,40), fontsize=15, color = \"green\")\n",
    "today = date.today()\n",
    "plt.title(f'Southern Cities Latitude versus Humidity ({today})')\n",
    "\n",
    "#print r value for the correlation\n",
    "print(f\"The r-value is: {rvalue**2}\")\n",
    "      \n",
    "#saving the plot as a png\n",
    "plt.savefig(\"images/SouthHumidvsLat.png\")\n",
    "      \n",
    "#showing the plot\n",
    "plt.show()"
   ]
  },
  {
   "cell_type": "markdown",
   "metadata": {},
   "source": [
    "Observations About Humidity: These scatter plots show the relation between latitude and humidity for the northern and souther hemispheres. For the northern hemisphere, the relation between latitude and humidity is weak (r2 = 0.17), which could suggest no relation. Likewise for the southern hemisphere, the relation between latitude and humidity is also very weak (r2 = 0.08), which could suggest absolutely no relation."
   ]
  },
  {
   "cell_type": "markdown",
   "metadata": {},
   "source": [
    "####  Northern Hemisphere - Cloudiness (%) vs. Latitude Linear Regression"
   ]
  },
  {
   "cell_type": "code",
   "execution_count": 185,
   "metadata": {},
   "outputs": [
    {
     "name": "stdout",
     "output_type": "stream",
     "text": [
      "y = 0.54x+36.91\n"
     ]
    }
   ],
   "source": [
    "#computing the regression for cloudiness versus latitude\n",
    "#declaring x and y\n",
    "north_lat = north_hem['Latitude']\n",
    "north_cloud = north_hem['Cloudiness']\n",
    "\n",
    "#performing the regression\n",
    "(slope, intercept, rvalue, pvalue, stderr) = stats.linregress(north_lat, north_cloud)\n",
    "\n",
    "#obtaining regression values\n",
    "regress_values = north_lat * slope + intercept\n",
    "\n",
    "#creating the equation string to be printed on the chart\n",
    "line_eq = \"y = \" + str(round(slope,2)) + \"x+\" + str(round(intercept,2))\n",
    "\n",
    "#printing the line\n",
    "print(line_eq)"
   ]
  },
  {
   "cell_type": "code",
   "execution_count": 186,
   "metadata": {},
   "outputs": [
    {
     "name": "stdout",
     "output_type": "stream",
     "text": [
      "The r-value is: 0.0767949996105405\n"
     ]
    },
    {
     "data": {
      "image/png": "[encoded data removed]",
      "text/plain": [
       "<Figure size 432x288 with 1 Axes>"
      ]
     },
     "metadata": {
      "needs_background": "light"
     },
     "output_type": "display_data"
    }
   ],
   "source": [
    "#plotting a scatter plot for cloudiness and latitude for the southern hemisphere\n",
    "plt.scatter(north_lat, north_cloud)\n",
    "plt.plot(north_lat,regress_values,\"r-\")\n",
    "\n",
    "#label the plot and annotate the line equation\n",
    "plt.xlabel('Latitude')\n",
    "plt.ylabel('Cloudiness %')\n",
    "plt.annotate(line_eq,(40,45), fontsize=15, color = \"green\")\n",
    "today = date.today()\n",
    "plt.title(f'Northern Cities Latitude versus Cloudiness ({today})')\n",
    "\n",
    "#print r value for the correlation\n",
    "print(f\"The r-value is: {rvalue**2}\")\n",
    "      \n",
    "#saving the plot as a png\n",
    "plt.savefig(\"images/NorthCloudvsLat.png\")\n",
    "      \n",
    "#showing the plot\n",
    "plt.show()"
   ]
  },
  {
   "cell_type": "markdown",
   "metadata": {},
   "source": [
    "####  Southern Hemisphere - Cloudiness (%) vs. Latitude Linear Regression"
   ]
  },
  {
   "cell_type": "code",
   "execution_count": 187,
   "metadata": {},
   "outputs": [
    {
     "name": "stdout",
     "output_type": "stream",
     "text": [
      "y = 0.85x +85.85\n"
     ]
    }
   ],
   "source": [
    "#computing the regression for cloudiness versus latitude\n",
    "#declaring x and y\n",
    "south_lat = south_hem['Latitude']\n",
    "south_cloud = south_hem['Cloudiness']\n",
    "\n",
    "#performing the regression\n",
    "(slope, intercept, rvalue, pvalue, stderr) = stats.linregress(south_lat, south_cloud)\n",
    "\n",
    "#obtaining regression values\n",
    "regress_values = south_lat * slope + intercept\n",
    "\n",
    "#creating the equation string to be printed on the chart\n",
    "line_eq = \"y = \" + str(round(slope,2)) + \"x +\" + str(round(intercept,2))\n",
    "\n",
    "#printing the line\n",
    "print(line_eq)"
   ]
  },
  {
   "cell_type": "code",
   "execution_count": 188,
   "metadata": {},
   "outputs": [
    {
     "name": "stdout",
     "output_type": "stream",
     "text": [
      "The r-value is: 0.09935227279405859\n"
     ]
    },
    {
     "data": {
      "image/png": "[encoded data removed]",
      "text/plain": [
       "<Figure size 432x288 with 1 Axes>"
      ]
     },
     "metadata": {
      "needs_background": "light"
     },
     "output_type": "display_data"
    }
   ],
   "source": [
    "#plotting a scatter plot for cloudiness and latitude for the southern hemisphere\n",
    "plt.scatter(south_lat, south_cloud)\n",
    "plt.plot(south_lat,regress_values,\"r-\")\n",
    "\n",
    "#label the plot and annotate the line equation\n",
    "plt.xlabel('Latitude')\n",
    "plt.ylabel('Cloudiness %')\n",
    "plt.annotate(line_eq,(-40,25), fontsize=15, color = \"green\")\n",
    "today = date.today()\n",
    "plt.title(f'Southern Cities Latitude versus Cloudiness ({today})')\n",
    "\n",
    "#print r value for the correlation\n",
    "print(f\"The r-value is: {rvalue**2}\")\n",
    "      \n",
    "#saving the plot as a png\n",
    "plt.savefig(\"images/SouthCloudvsLat.png\")\n",
    "      \n",
    "#showing the plot\n",
    "plt.show()"
   ]
  },
  {
   "cell_type": "markdown",
   "metadata": {},
   "source": [
    "Observations About Cloudiness: These scatter plots show the relation between latitude and cloudiness for the northern and souther hemispheres. For the northern hemisphere, the relation between latitude and cloudiness is very weak (r2 = 0.08), which could suggest no relation. Likewise for the southern hemisphere, the relation between latitude and cloudiness is also very weak (r2 = 0.10), which could suggest no relation."
   ]
  },
  {
   "cell_type": "markdown",
   "metadata": {},
   "source": [
    "####  Northern Hemisphere - Wind Speed (mph) vs. Latitude Linear Regression"
   ]
  },
  {
   "cell_type": "code",
   "execution_count": 189,
   "metadata": {},
   "outputs": [
    {
     "name": "stdout",
     "output_type": "stream",
     "text": [
      "y = 0.07x+4.75\n"
     ]
    }
   ],
   "source": [
    "#computing the regression for wind speed versus latitude\n",
    "#declaring x and y\n",
    "north_lat = north_hem['Latitude']\n",
    "north_wind = north_hem['Wind Speed (mph)']\n",
    "\n",
    "#performing the regression\n",
    "(slope, intercept, rvalue, pvalue, stderr) = stats.linregress(north_lat, north_wind)\n",
    "\n",
    "#obtaining regression values\n",
    "regress_values = north_lat * slope + intercept\n",
    "\n",
    "#creating the equation string to be printed on the chart\n",
    "line_eq = \"y = \" + str(round(slope,2)) + \"x+\" + str(round(intercept,2))\n",
    "\n",
    "#printing the line\n",
    "print(line_eq)"
   ]
  },
  {
   "cell_type": "code",
   "execution_count": 190,
   "metadata": {},
   "outputs": [
    {
     "name": "stdout",
     "output_type": "stream",
     "text": [
      "The r-value is: 0.05518569559212408\n"
     ]
    },
    {
     "data": {
      "image/png": "[encoded data removed]",
      "text/plain": [
       "<Figure size 432x288 with 1 Axes>"
      ]
     },
     "metadata": {
      "needs_background": "light"
     },
     "output_type": "display_data"
    }
   ],
   "source": [
    "#plotting a scatter plot for wind speed and latitude for the northern hemisphere\n",
    "plt.scatter(north_lat, north_wind)\n",
    "plt.plot(north_lat,regress_values,\"r-\")\n",
    "\n",
    "#label the plot and annotate the line equation\n",
    "plt.xlabel('Latitude')\n",
    "plt.ylabel('Wind Speed (mph)')\n",
    "plt.annotate(line_eq,(20,30), fontsize=15, color = \"green\")\n",
    "today = date.today()\n",
    "plt.title(f'Northern Cities Latitude versus Wind Speed ({today})')\n",
    "\n",
    "#print r value for the correlation\n",
    "print(f\"The r-value is: {rvalue**2}\")\n",
    "      \n",
    "#saving the plot as a png\n",
    "plt.savefig(\"images/NorthWindvsLat.png\")\n",
    "      \n",
    "#showing the plot\n",
    "plt.show()"
   ]
  },
  {
   "cell_type": "markdown",
   "metadata": {},
   "source": [
    "####  Southern Hemisphere - Wind Speed (mph) vs. Latitude Linear Regression"
   ]
  },
  {
   "cell_type": "code",
   "execution_count": 191,
   "metadata": {},
   "outputs": [
    {
     "name": "stdout",
     "output_type": "stream",
     "text": [
      "y = -0.09x+6.41\n"
     ]
    }
   ],
   "source": [
    "#computing the regression for wind speed versus latitude\n",
    "#declaring x and y\n",
    "south_lat = south_hem['Latitude']\n",
    "south_wind = south_hem['Wind Speed (mph)']\n",
    "\n",
    "#performing the regression\n",
    "(slope, intercept, rvalue, pvalue, stderr) = stats.linregress(south_lat, south_wind)\n",
    "\n",
    "#obtaining regression values\n",
    "regress_values = south_lat * slope + intercept\n",
    "\n",
    "#creating the equation string to be printed on the chart\n",
    "line_eq = \"y = \" + str(round(slope,2)) + \"x+\" + str(round(intercept,2))\n",
    "\n",
    "#printing the line\n",
    "print(line_eq)"
   ]
  },
  {
   "cell_type": "code",
   "execution_count": 192,
   "metadata": {},
   "outputs": [
    {
     "name": "stdout",
     "output_type": "stream",
     "text": [
      "The r-value is: 0.05606356207720339\n"
     ]
    },
    {
     "data": {
      "image/png": "[encoded data removed]",
      "text/plain": [
       "<Figure size 432x288 with 1 Axes>"
      ]
     },
     "metadata": {
      "needs_background": "light"
     },
     "output_type": "display_data"
    }
   ],
   "source": [
    "#plotting a scatter plot for wind speed and latitude for the southern hemisphere\n",
    "plt.scatter(south_lat, south_wind)\n",
    "plt.plot(south_lat,regress_values,\"r-\")\n",
    "\n",
    "#label the plot and annotate the line equation\n",
    "plt.xlabel('Latitude')\n",
    "plt.ylabel('Wind Speed (mph)')\n",
    "plt.annotate(line_eq,(-25,25), fontsize=15, color = \"green\")\n",
    "today = date.today()\n",
    "plt.title(f'Southern Cities Latitude versus Wind Speed ({today})')\n",
    "\n",
    "#print r value for the correlation\n",
    "print(f\"The r-value is: {rvalue**2}\")\n",
    "      \n",
    "#saving the plot as a png\n",
    "plt.savefig(\"images/SouthWindvsLat.png\")\n",
    "      \n",
    "#showing the plot\n",
    "plt.show()"
   ]
  },
  {
   "cell_type": "markdown",
   "metadata": {},
   "source": [
    "Observations about Wind Speed: These scatter plots show the relation between latitude and wind speed for the northern and souther hemispheres. For the northern hemisphere, the relation between latitude and wind speed is very weak (r2 = 0.06), which could suggest no relation. Likewise for the southern hemisphere, the relation between latitude and cloudiness is also very weak (r2 = 0.06), which could suggest no relation."
   ]
  }
 ],
 "metadata": {
  "anaconda-cloud": {},
  "kernel_info": {
   "name": "python3"
  },
  "kernelspec": {
   "display_name": "pythondata",
   "language": "python",
   "name": "pythondata"
  },
  "language_info": {
   "codemirror_mode": {
    "name": "ipython",
    "version": 3
   },
   "file_extension": ".py",
   "mimetype": "text/x-python",
   "name": "python",
   "nbconvert_exporter": "python",
   "pygments_lexer": "ipython3",
   "version": "3.8.8"
  },
  "latex_envs": {
   "LaTeX_envs_menu_present": true,
   "autoclose": false,
   "autocomplete": true,
   "bibliofile": "biblio.bib",
   "cite_by": "apalike",
   "current_citInitial": 1,
   "eqLabelWithNumbers": true,
   "eqNumInitial": 1,
   "hotkeys": {
    "equation": "Ctrl-E",
    "itemize": "Ctrl-I"
   },
   "labels_anchors": false,
   "latex_user_defs": false,
   "report_style_numbering": false,
   "user_envs_cfg": false
  },
  "nteract": {
   "version": "0.12.3"
  }
 },
 "nbformat": 4,
 "nbformat_minor": 2
}
