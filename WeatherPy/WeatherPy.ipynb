{
 "cells": [
  {
   "cell_type": "markdown",
   "metadata": {},
   "source": [
    "# WeatherPy"
   ]
  },
  {
   "cell_type": "code",
   "execution_count": 91,
   "metadata": {
    "scrolled": true
   },
   "outputs": [],
   "source": [
    "# Dependencies and Setup\n",
    "import matplotlib.pyplot as plt\n",
    "import pandas as pd\n",
    "import numpy as np\n",
    "import requests\n",
    "import time\n",
    "from scipy.stats import linregress\n",
    "from scipy import stats\n",
    "from datetime import date\n",
    "\n",
    "# Import API key\n",
    "from api_keys import weather_api_key\n",
    "\n",
    "# Incorporated citipy to determine city based on latitude and longitude\n",
    "from citipy import citipy\n",
    "\n",
    "# Output File (CSV)\n",
    "output_data_file = \"output_data/cities.csv\"\n",
    "\n",
    "# Range of latitudes and longitudes\n",
    "lat_range = (-90, 90)\n",
    "lng_range = (-180, 180)"
   ]
  },
  {
   "cell_type": "markdown",
   "metadata": {},
   "source": [
    "## Generate Cities List"
   ]
  },
  {
   "cell_type": "code",
   "execution_count": 92,
   "metadata": {},
   "outputs": [
    {
     "data": {
      "text/plain": [
       "597"
      ]
     },
     "execution_count": 92,
     "metadata": {},
     "output_type": "execute_result"
    }
   ],
   "source": [
    "# List for holding lat_lngs and cities\n",
    "lat_lngs = []\n",
    "cities = []\n",
    "\n",
    "# Create a set of random lat and lng combinations\n",
    "lats = np.random.uniform(lat_range[0], lat_range[1], size=1500)\n",
    "lngs = np.random.uniform(lng_range[0], lng_range[1], size=1500)\n",
    "lat_lngs = zip(lats, lngs)\n",
    "\n",
    "# Identify nearest city for each lat, lng combination\n",
    "for lat_lng in lat_lngs:\n",
    "    city = citipy.nearest_city(lat_lng[0], lat_lng[1]).city_name\n",
    "    \n",
    "    # If the city is unique, then add it to a our cities list\n",
    "    if city not in cities:\n",
    "        cities.append(city)\n",
    "\n",
    "#setting random.seed for reproducible results\n",
    "np.random.seed(42)\n",
    "\n",
    "# Print the city count to confirm sufficient count\n",
    "len(cities)"
   ]
  },
  {
   "cell_type": "code",
   "execution_count": 93,
   "metadata": {},
   "outputs": [],
   "source": [
    "#generating a sample of cities for testing the code\n",
    "#after the code is tested, these line will be seen as comments\n",
    "#subset_cities = cities[:50]\n",
    "\n",
    "#subset_cities"
   ]
  },
  {
   "cell_type": "markdown",
   "metadata": {},
   "source": [
    "### Perform API Calls\n",
    "* Perform a weather check on each city using a series of successive API calls.\n",
    "* Include a print log of each city as it'sbeing processed (with the city number and city name).\n",
    "\n",
    "> **HINT:** The OpenWeatherMap API only allows 60 calls per minute under their free plan. Try using `time.sleep(60)` after each set of 50 cities to avoid API errors due to large calls."
   ]
  },
  {
   "cell_type": "code",
   "execution_count": 94,
   "metadata": {},
   "outputs": [],
   "source": [
    "#saving the configuration information\n",
    "#saving the base url\n",
    "url = \"http://api.openweathermap.org/data/2.5/weather?\"\n",
    "\n",
    "#setting our units to imperial for Fahrenheit (temperature) and mph (wind speed)\n",
    "units = \"imperial\"\n",
    "\n",
    "#building the query url\n",
    "url2 = f\"{url}appid={weather_api_key}&units={units}&q=\"\n"
   ]
  },
  {
   "cell_type": "code",
   "execution_count": 96,
   "metadata": {
    "scrolled": true
   },
   "outputs": [
    {
     "name": "stdout",
     "output_type": "stream",
     "text": [
      "henties bay found! Appending relevant stats.\n",
      "City not found. Skipping...\n",
      "bethel found! Appending relevant stats.\n",
      "saint-francois found! Appending relevant stats.\n",
      "ushuaia found! Appending relevant stats.\n",
      "mar del plata found! Appending relevant stats.\n",
      "kruisfontein found! Appending relevant stats.\n",
      "bronnoysund found! Appending relevant stats.\n",
      "City not found. Skipping...\n",
      "yumen found! Appending relevant stats.\n",
      "albany found! Appending relevant stats.\n",
      "dikson found! Appending relevant stats.\n",
      "ossora found! Appending relevant stats.\n",
      "vaini found! Appending relevant stats.\n",
      "castro found! Appending relevant stats.\n",
      "City not found. Skipping...\n",
      "vanimo found! Appending relevant stats.\n",
      "san cristobal found! Appending relevant stats.\n",
      "ulladulla found! Appending relevant stats.\n",
      "ewa beach found! Appending relevant stats.\n",
      "bluff found! Appending relevant stats.\n",
      "maldonado found! Appending relevant stats.\n",
      "mataura found! Appending relevant stats.\n",
      "jamestown found! Appending relevant stats.\n",
      "geraldton found! Appending relevant stats.\n",
      "punta arenas found! Appending relevant stats.\n",
      "mitu found! Appending relevant stats.\n",
      "da nang found! Appending relevant stats.\n",
      "bredasdorp found! Appending relevant stats.\n",
      "City not found. Skipping...\n",
      "port alfred found! Appending relevant stats.\n",
      "busselton found! Appending relevant stats.\n",
      "qaanaaq found! Appending relevant stats.\n",
      "sitka found! Appending relevant stats.\n",
      "rikitea found! Appending relevant stats.\n",
      "yuma found! Appending relevant stats.\n",
      "luanda found! Appending relevant stats.\n",
      "saint-philippe found! Appending relevant stats.\n",
      "atuona found! Appending relevant stats.\n",
      "te anau found! Appending relevant stats.\n",
      "marrakesh found! Appending relevant stats.\n",
      "mbaiki found! Appending relevant stats.\n",
      "makakilo city found! Appending relevant stats.\n",
      "east london found! Appending relevant stats.\n",
      "cherskiy found! Appending relevant stats.\n",
      "lyman found! Appending relevant stats.\n",
      "saskylakh found! Appending relevant stats.\n",
      "City not found. Skipping...\n",
      "City not found. Skipping...\n",
      "yellowknife found! Appending relevant stats.\n",
      "chuy found! Appending relevant stats.\n",
      "new norfolk found! Appending relevant stats.\n",
      "broken hill found! Appending relevant stats.\n",
      "ribas do rio pardo found! Appending relevant stats.\n",
      "ancud found! Appending relevant stats.\n",
      "vanavara found! Appending relevant stats.\n",
      "coquimbo found! Appending relevant stats.\n",
      "sao filipe found! Appending relevant stats.\n",
      "kodiak found! Appending relevant stats.\n",
      "yurkivka found! Appending relevant stats.\n",
      "City not found. Skipping...\n",
      "guymon found! Appending relevant stats.\n",
      "inhambane found! Appending relevant stats.\n",
      "thompson found! Appending relevant stats.\n",
      "ponta do sol found! Appending relevant stats.\n",
      "richards bay found! Appending relevant stats.\n",
      "hermanus found! Appending relevant stats.\n",
      "russell found! Appending relevant stats.\n",
      "angren found! Appending relevant stats.\n",
      "hithadhoo found! Appending relevant stats.\n",
      "nikolskoye found! Appending relevant stats.\n",
      "port hardy found! Appending relevant stats.\n",
      "hilo found! Appending relevant stats.\n",
      "shar found! Appending relevant stats.\n",
      "goma found! Appending relevant stats.\n",
      "pizarro found! Appending relevant stats.\n",
      "faanui found! Appending relevant stats.\n",
      "hobart found! Appending relevant stats.\n",
      "road town found! Appending relevant stats.\n",
      "lebu found! Appending relevant stats.\n",
      "amapa found! Appending relevant stats.\n",
      "barrow found! Appending relevant stats.\n",
      "cape town found! Appending relevant stats.\n",
      "darhan found! Appending relevant stats.\n",
      "victor harbor found! Appending relevant stats.\n",
      "City not found. Skipping...\n",
      "havre-saint-pierre found! Appending relevant stats.\n",
      "the valley found! Appending relevant stats.\n",
      "verkhnyaya inta found! Appending relevant stats.\n",
      "beringovskiy found! Appending relevant stats.\n",
      "skjervoy found! Appending relevant stats.\n",
      "kalmunai found! Appending relevant stats.\n",
      "westport found! Appending relevant stats.\n",
      "oudtshoorn found! Appending relevant stats.\n",
      "grand gaube found! Appending relevant stats.\n",
      "la ronge found! Appending relevant stats.\n",
      "terrak found! Appending relevant stats.\n",
      "bonthe found! Appending relevant stats.\n",
      "bengkulu found! Appending relevant stats.\n",
      "necochea found! Appending relevant stats.\n",
      "chokurdakh found! Appending relevant stats.\n",
      "itarema found! Appending relevant stats.\n",
      "pacifica found! Appending relevant stats.\n",
      "isangel found! Appending relevant stats.\n",
      "esperance found! Appending relevant stats.\n",
      "port-gentil found! Appending relevant stats.\n",
      "City not found. Skipping...\n",
      "lompoc found! Appending relevant stats.\n",
      "bontang found! Appending relevant stats.\n",
      "mahebourg found! Appending relevant stats.\n",
      "lavrentiya found! Appending relevant stats.\n",
      "coihaique found! Appending relevant stats.\n",
      "breves found! Appending relevant stats.\n",
      "tuatapere found! Appending relevant stats.\n",
      "ajdabiya found! Appending relevant stats.\n",
      "saint-jean-port-joli found! Appending relevant stats.\n",
      "vila franca do campo found! Appending relevant stats.\n",
      "gat found! Appending relevant stats.\n",
      "katsuura found! Appending relevant stats.\n",
      "konongo found! Appending relevant stats.\n",
      "kaitangata found! Appending relevant stats.\n",
      "tommot found! Appending relevant stats.\n",
      "wanning found! Appending relevant stats.\n",
      "ribeira grande found! Appending relevant stats.\n",
      "sorong found! Appending relevant stats.\n",
      "rongcheng found! Appending relevant stats.\n",
      "kahului found! Appending relevant stats.\n",
      "caravelas found! Appending relevant stats.\n",
      "norman wells found! Appending relevant stats.\n",
      "sao luiz gonzaga found! Appending relevant stats.\n",
      "City not found. Skipping...\n",
      "udachnyy found! Appending relevant stats.\n",
      "naze found! Appending relevant stats.\n",
      "ola found! Appending relevant stats.\n",
      "ferkessedougou found! Appending relevant stats.\n",
      "yabelo found! Appending relevant stats.\n",
      "roald found! Appending relevant stats.\n",
      "tasiilaq found! Appending relevant stats.\n",
      "laguna found! Appending relevant stats.\n",
      "avera found! Appending relevant stats.\n",
      "kapaa found! Appending relevant stats.\n",
      "tuktoyaktuk found! Appending relevant stats.\n",
      "bilibino found! Appending relevant stats.\n",
      "krapkowice found! Appending relevant stats.\n",
      "butaritari found! Appending relevant stats.\n",
      "santa maria found! Appending relevant stats.\n",
      "City not found. Skipping...\n",
      "cabo san lucas found! Appending relevant stats.\n",
      "panzhihua found! Appending relevant stats.\n",
      "waipawa found! Appending relevant stats.\n",
      "avarua found! Appending relevant stats.\n",
      "City not found. Skipping...\n",
      "souillac found! Appending relevant stats.\n",
      "mecca found! Appending relevant stats.\n",
      "hauterive found! Appending relevant stats.\n",
      "City not found. Skipping...\n",
      "goure found! Appending relevant stats.\n",
      "touros found! Appending relevant stats.\n",
      "oga found! Appending relevant stats.\n",
      "codrington found! Appending relevant stats.\n",
      "khatanga found! Appending relevant stats.\n",
      "klaksvik found! Appending relevant stats.\n",
      "City not found. Skipping...\n",
      "puerto ayora found! Appending relevant stats.\n",
      "provideniya found! Appending relevant stats.\n",
      "phan thiet found! Appending relevant stats.\n",
      "pevek found! Appending relevant stats.\n",
      "City not found. Skipping...\n",
      "nouadhibou found! Appending relevant stats.\n",
      "tiksi found! Appending relevant stats.\n",
      "jacqueville found! Appending relevant stats.\n",
      "halifax found! Appending relevant stats.\n",
      "korla found! Appending relevant stats.\n",
      "lagos found! Appending relevant stats.\n",
      "ilhabela found! Appending relevant stats.\n",
      "vidim found! Appending relevant stats.\n",
      "City not found. Skipping...\n",
      "kluang found! Appending relevant stats.\n",
      "sao gabriel da cachoeira found! Appending relevant stats.\n",
      "sergeyevka found! Appending relevant stats.\n",
      "los llanos de aridane found! Appending relevant stats.\n",
      "paris found! Appending relevant stats.\n",
      "urusha found! Appending relevant stats.\n",
      "nome found! Appending relevant stats.\n",
      "salalah found! Appending relevant stats.\n",
      "victoria found! Appending relevant stats.\n",
      "ginir found! Appending relevant stats.\n",
      "abalak found! Appending relevant stats.\n",
      "varhaug found! Appending relevant stats.\n",
      "bambous virieux found! Appending relevant stats.\n",
      "City not found. Skipping...\n",
      "iracoubo found! Appending relevant stats.\n",
      "cockburn town found! Appending relevant stats.\n",
      "saint-pierre found! Appending relevant stats.\n",
      "hinton found! Appending relevant stats.\n",
      "City not found. Skipping...\n",
      "sterling found! Appending relevant stats.\n",
      "severo-kurilsk found! Appending relevant stats.\n",
      "camana found! Appending relevant stats.\n"
     ]
    },
    {
     "name": "stdout",
     "output_type": "stream",
     "text": [
      "ixtapa found! Appending relevant stats.\n",
      "fortuna found! Appending relevant stats.\n",
      "sakakah found! Appending relevant stats.\n",
      "follonica found! Appending relevant stats.\n",
      "srandakan found! Appending relevant stats.\n",
      "vao found! Appending relevant stats.\n",
      "osypenko found! Appending relevant stats.\n",
      "mayo found! Appending relevant stats.\n",
      "saint george found! Appending relevant stats.\n",
      "kokopo found! Appending relevant stats.\n",
      "carutapera found! Appending relevant stats.\n",
      "georgetown found! Appending relevant stats.\n",
      "cidreira found! Appending relevant stats.\n",
      "pemba found! Appending relevant stats.\n",
      "poum found! Appending relevant stats.\n",
      "paraiso found! Appending relevant stats.\n",
      "mount isa found! Appending relevant stats.\n",
      "abu dhabi found! Appending relevant stats.\n",
      "valle del guamuez found! Appending relevant stats.\n",
      "mirnyy found! Appending relevant stats.\n",
      "houma found! Appending relevant stats.\n",
      "City not found. Skipping...\n",
      "kattivakkam found! Appending relevant stats.\n",
      "City not found. Skipping...\n",
      "sharjah found! Appending relevant stats.\n",
      "moundou found! Appending relevant stats.\n",
      "komsomolskiy found! Appending relevant stats.\n",
      "huilong found! Appending relevant stats.\n",
      "saldanha found! Appending relevant stats.\n",
      "suoyarvi found! Appending relevant stats.\n",
      "chapais found! Appending relevant stats.\n",
      "plettenberg bay found! Appending relevant stats.\n",
      "tottori found! Appending relevant stats.\n",
      "abu samrah found! Appending relevant stats.\n",
      "svetlogorsk found! Appending relevant stats.\n",
      "ashland found! Appending relevant stats.\n",
      "dingle found! Appending relevant stats.\n",
      "yining found! Appending relevant stats.\n",
      "belmonte found! Appending relevant stats.\n",
      "carnarvon found! Appending relevant stats.\n",
      "gravelbourg found! Appending relevant stats.\n",
      "warmbad found! Appending relevant stats.\n",
      "lukovetskiy found! Appending relevant stats.\n",
      "torbay found! Appending relevant stats.\n",
      "hovd found! Appending relevant stats.\n",
      "meulaboh found! Appending relevant stats.\n",
      "pouebo found! Appending relevant stats.\n",
      "upernavik found! Appending relevant stats.\n",
      "los andes found! Appending relevant stats.\n",
      "leningradskiy found! Appending relevant stats.\n",
      "sinnamary found! Appending relevant stats.\n",
      "lagoa found! Appending relevant stats.\n",
      "makinsk found! Appending relevant stats.\n",
      "gurupa found! Appending relevant stats.\n",
      "chinsali found! Appending relevant stats.\n",
      "port elizabeth found! Appending relevant stats.\n",
      "ineu found! Appending relevant stats.\n",
      "faya found! Appending relevant stats.\n",
      "City not found. Skipping...\n",
      "chara found! Appending relevant stats.\n",
      "la union found! Appending relevant stats.\n",
      "narsaq found! Appending relevant stats.\n",
      "City not found. Skipping...\n",
      "shestakovo found! Appending relevant stats.\n",
      "newport found! Appending relevant stats.\n",
      "City not found. Skipping...\n",
      "tecoanapa found! Appending relevant stats.\n",
      "lichinga found! Appending relevant stats.\n",
      "City not found. Skipping...\n",
      "namatanai found! Appending relevant stats.\n",
      "cabedelo found! Appending relevant stats.\n",
      "tongliao found! Appending relevant stats.\n",
      "cayenne found! Appending relevant stats.\n",
      "longyearbyen found! Appending relevant stats.\n",
      "giyani found! Appending relevant stats.\n",
      "qasigiannguit found! Appending relevant stats.\n",
      "rawson found! Appending relevant stats.\n",
      "sorland found! Appending relevant stats.\n",
      "aguazul found! Appending relevant stats.\n",
      "City not found. Skipping...\n",
      "constitucion found! Appending relevant stats.\n",
      "tongchuan found! Appending relevant stats.\n",
      "taoudenni found! Appending relevant stats.\n",
      "guerrero negro found! Appending relevant stats.\n",
      "margate found! Appending relevant stats.\n",
      "padang found! Appending relevant stats.\n",
      "manchester found! Appending relevant stats.\n",
      "santa cruz found! Appending relevant stats.\n",
      "griffith found! Appending relevant stats.\n",
      "sioux lookout found! Appending relevant stats.\n",
      "martinez found! Appending relevant stats.\n",
      "kodinsk found! Appending relevant stats.\n",
      "avila found! Appending relevant stats.\n",
      "dourados found! Appending relevant stats.\n",
      "okha found! Appending relevant stats.\n",
      "ghanzi found! Appending relevant stats.\n",
      "olafsvik found! Appending relevant stats.\n",
      "talara found! Appending relevant stats.\n",
      "riwaka found! Appending relevant stats.\n",
      "kozhva found! Appending relevant stats.\n",
      "meadow lake found! Appending relevant stats.\n",
      "lenina found! Appending relevant stats.\n",
      "haines junction found! Appending relevant stats.\n",
      "itoman found! Appending relevant stats.\n",
      "talwandi bhai found! Appending relevant stats.\n",
      "nola found! Appending relevant stats.\n",
      "zhigansk found! Appending relevant stats.\n",
      "karaton found! Appending relevant stats.\n",
      "bilma found! Appending relevant stats.\n",
      "kosum phisai found! Appending relevant stats.\n",
      "pimentel found! Appending relevant stats.\n",
      "presidencia roque saenz pena found! Appending relevant stats.\n",
      "leverkusen found! Appending relevant stats.\n",
      "khandyga found! Appending relevant stats.\n",
      "City not found. Skipping...\n",
      "City not found. Skipping...\n",
      "dubbo found! Appending relevant stats.\n",
      "marzuq found! Appending relevant stats.\n",
      "luderitz found! Appending relevant stats.\n",
      "clyde river found! Appending relevant stats.\n",
      "metro found! Appending relevant stats.\n",
      "marsa matruh found! Appending relevant stats.\n",
      "pauini found! Appending relevant stats.\n",
      "mount gambier found! Appending relevant stats.\n",
      "emerald found! Appending relevant stats.\n",
      "muisne found! Appending relevant stats.\n",
      "shellbrook found! Appending relevant stats.\n",
      "usinsk found! Appending relevant stats.\n",
      "terney found! Appending relevant stats.\n",
      "ambilobe found! Appending relevant stats.\n",
      "redmond found! Appending relevant stats.\n",
      "arraial do cabo found! Appending relevant stats.\n",
      "west sacramento found! Appending relevant stats.\n",
      "lisala found! Appending relevant stats.\n",
      "bali found! Appending relevant stats.\n",
      "merauke found! Appending relevant stats.\n",
      "yulara found! Appending relevant stats.\n",
      "la rioja found! Appending relevant stats.\n",
      "ndioum found! Appending relevant stats.\n",
      "worcester found! Appending relevant stats.\n",
      "kushtagi found! Appending relevant stats.\n",
      "chifeng found! Appending relevant stats.\n",
      "san alberto found! Appending relevant stats.\n",
      "adeje found! Appending relevant stats.\n",
      "port blair found! Appending relevant stats.\n",
      "saint-joseph found! Appending relevant stats.\n",
      "bahia blanca found! Appending relevant stats.\n",
      "pundaguitan found! Appending relevant stats.\n",
      "toamasina found! Appending relevant stats.\n",
      "iqaluit found! Appending relevant stats.\n",
      "hamilton found! Appending relevant stats.\n",
      "kavieng found! Appending relevant stats.\n",
      "City not found. Skipping...\n",
      "bulgan found! Appending relevant stats.\n",
      "cairns found! Appending relevant stats.\n",
      "san policarpo found! Appending relevant stats.\n",
      "urbano santos found! Appending relevant stats.\n",
      "sao joao da barra found! Appending relevant stats.\n",
      "zeya found! Appending relevant stats.\n",
      "hasaki found! Appending relevant stats.\n",
      "ulaangom found! Appending relevant stats.\n",
      "City not found. Skipping...\n",
      "luganville found! Appending relevant stats.\n",
      "austin found! Appending relevant stats.\n",
      "City not found. Skipping...\n",
      "khotynets found! Appending relevant stats.\n",
      "sarangani found! Appending relevant stats.\n",
      "kirovsk found! Appending relevant stats.\n",
      "athabasca found! Appending relevant stats.\n",
      "pisco found! Appending relevant stats.\n",
      "cikupa found! Appending relevant stats.\n",
      "sfantu gheorghe found! Appending relevant stats.\n",
      "City not found. Skipping...\n",
      "port lincoln found! Appending relevant stats.\n",
      "City not found. Skipping...\n",
      "City not found. Skipping...\n",
      "sur found! Appending relevant stats.\n",
      "northam found! Appending relevant stats.\n",
      "slonim found! Appending relevant stats.\n",
      "arlit found! Appending relevant stats.\n",
      "vestmannaeyjar found! Appending relevant stats.\n",
      "burnie found! Appending relevant stats.\n",
      "aden found! Appending relevant stats.\n",
      "bereznehuvate found! Appending relevant stats.\n",
      "staryy nadym found! Appending relevant stats.\n",
      "nanortalik found! Appending relevant stats.\n",
      "saint-denis found! Appending relevant stats.\n",
      "City not found. Skipping...\n",
      "calvia found! Appending relevant stats.\n",
      "pushkino found! Appending relevant stats.\n",
      "corinth found! Appending relevant stats.\n",
      "san jose found! Appending relevant stats.\n",
      "bull savanna found! Appending relevant stats.\n",
      "egvekinot found! Appending relevant stats.\n",
      "dogondoutchi found! Appending relevant stats.\n",
      "jeremie found! Appending relevant stats.\n",
      "samarai found! Appending relevant stats.\n",
      "ostrovnoy found! Appending relevant stats.\n",
      "City not found. Skipping...\n",
      "anadyr found! Appending relevant stats.\n"
     ]
    },
    {
     "name": "stdout",
     "output_type": "stream",
     "text": [
      "iralaya found! Appending relevant stats.\n",
      "ekhabi found! Appending relevant stats.\n",
      "patacamaya found! Appending relevant stats.\n",
      "kudat found! Appending relevant stats.\n",
      "derbent found! Appending relevant stats.\n",
      "City not found. Skipping...\n",
      "santana found! Appending relevant stats.\n",
      "iguape found! Appending relevant stats.\n",
      "ahuimanu found! Appending relevant stats.\n",
      "mayuge found! Appending relevant stats.\n",
      "City not found. Skipping...\n",
      "damaturu found! Appending relevant stats.\n",
      "olinda found! Appending relevant stats.\n",
      "el calvario found! Appending relevant stats.\n",
      "sinazongwe found! Appending relevant stats.\n",
      "sisimiut found! Appending relevant stats.\n",
      "khipro found! Appending relevant stats.\n",
      "maragogi found! Appending relevant stats.\n",
      "nantucket found! Appending relevant stats.\n",
      "yibin found! Appending relevant stats.\n",
      "kaseda found! Appending relevant stats.\n",
      "sept-iles found! Appending relevant stats.\n",
      "hay river found! Appending relevant stats.\n",
      "grindavik found! Appending relevant stats.\n",
      "shimoda found! Appending relevant stats.\n",
      "rincon found! Appending relevant stats.\n",
      "qaqortoq found! Appending relevant stats.\n",
      "veraval found! Appending relevant stats.\n",
      "City not found. Skipping...\n",
      "beterou found! Appending relevant stats.\n",
      "lata found! Appending relevant stats.\n",
      "talnakh found! Appending relevant stats.\n",
      "chincha alta found! Appending relevant stats.\n",
      "portland found! Appending relevant stats.\n",
      "suntar found! Appending relevant stats.\n",
      "toro found! Appending relevant stats.\n",
      "City not found. Skipping...\n",
      "lakhimpur found! Appending relevant stats.\n",
      "khani found! Appending relevant stats.\n",
      "george town found! Appending relevant stats.\n",
      "kabwe found! Appending relevant stats.\n",
      "goderich found! Appending relevant stats.\n",
      "airai found! Appending relevant stats.\n",
      "gweta found! Appending relevant stats.\n",
      "kangaba found! Appending relevant stats.\n",
      "kinshasa found! Appending relevant stats.\n",
      "seguin found! Appending relevant stats.\n",
      "nemuro found! Appending relevant stats.\n",
      "dong hoi found! Appending relevant stats.\n",
      "knyaze-volkonskoye found! Appending relevant stats.\n",
      "peniche found! Appending relevant stats.\n",
      "City not found. Skipping...\n",
      "City not found. Skipping...\n",
      "City not found. Skipping...\n",
      "matagami found! Appending relevant stats.\n",
      "south valley found! Appending relevant stats.\n",
      "mehamn found! Appending relevant stats.\n",
      "sao jose da coroa grande found! Appending relevant stats.\n",
      "sabang found! Appending relevant stats.\n",
      "rovaniemi found! Appending relevant stats.\n",
      "fukue found! Appending relevant stats.\n",
      "naqadeh found! Appending relevant stats.\n",
      "City not found. Skipping...\n",
      "City not found. Skipping...\n",
      "ayabaca found! Appending relevant stats.\n",
      "City not found. Skipping...\n",
      "catuday found! Appending relevant stats.\n",
      "jiaonan found! Appending relevant stats.\n",
      "bandarbeyla found! Appending relevant stats.\n",
      "toora-khem found! Appending relevant stats.\n",
      "college found! Appending relevant stats.\n",
      "klyuchi found! Appending relevant stats.\n",
      "noumea found! Appending relevant stats.\n",
      "furtwangen found! Appending relevant stats.\n",
      "punta de bombon found! Appending relevant stats.\n",
      "tessalit found! Appending relevant stats.\n",
      "aykhal found! Appending relevant stats.\n",
      "conde found! Appending relevant stats.\n",
      "cohoes found! Appending relevant stats.\n",
      "sambava found! Appending relevant stats.\n",
      "sabha found! Appending relevant stats.\n",
      "dalvik found! Appending relevant stats.\n",
      "berlevag found! Appending relevant stats.\n",
      "micheweni found! Appending relevant stats.\n",
      "hongjiang found! Appending relevant stats.\n",
      "luba found! Appending relevant stats.\n",
      "sudbury found! Appending relevant stats.\n",
      "gilgit found! Appending relevant stats.\n",
      "arroyo found! Appending relevant stats.\n",
      "arman found! Appending relevant stats.\n",
      "quatre cocos found! Appending relevant stats.\n",
      "ucar found! Appending relevant stats.\n",
      "chamba found! Appending relevant stats.\n",
      "buala found! Appending relevant stats.\n",
      "ratnagiri found! Appending relevant stats.\n",
      "yaan found! Appending relevant stats.\n",
      "bereda found! Appending relevant stats.\n",
      "adrar found! Appending relevant stats.\n",
      "hofn found! Appending relevant stats.\n",
      "trinidad found! Appending relevant stats.\n",
      "kyaukse found! Appending relevant stats.\n",
      "stornoway found! Appending relevant stats.\n",
      "City not found. Skipping...\n",
      "juneau found! Appending relevant stats.\n",
      "general roca found! Appending relevant stats.\n",
      "talen found! Appending relevant stats.\n",
      "shingu found! Appending relevant stats.\n",
      "mutata found! Appending relevant stats.\n",
      "bonavista found! Appending relevant stats.\n",
      "ikare found! Appending relevant stats.\n",
      "ilulissat found! Appending relevant stats.\n",
      "wad madani found! Appending relevant stats.\n",
      "atar found! Appending relevant stats.\n",
      "sistranda found! Appending relevant stats.\n",
      "frutigen found! Appending relevant stats.\n",
      "City not found. Skipping...\n",
      "labuhan found! Appending relevant stats.\n",
      "soyo found! Appending relevant stats.\n",
      "hirara found! Appending relevant stats.\n",
      "itacare found! Appending relevant stats.\n",
      "kasangulu found! Appending relevant stats.\n",
      "carberry found! Appending relevant stats.\n",
      "havre found! Appending relevant stats.\n",
      "zavetnoye found! Appending relevant stats.\n",
      "simao found! Appending relevant stats.\n",
      "huayucachi found! Appending relevant stats.\n",
      "opuwo found! Appending relevant stats.\n",
      "kidal found! Appending relevant stats.\n",
      "City not found. Skipping...\n",
      "khilok found! Appending relevant stats.\n",
      "mushie found! Appending relevant stats.\n",
      "yatou found! Appending relevant stats.\n",
      "kutum found! Appending relevant stats.\n",
      "cullman found! Appending relevant stats.\n",
      "cedar city found! Appending relevant stats.\n",
      "City not found. Skipping...\n",
      "hami found! Appending relevant stats.\n",
      "prince george found! Appending relevant stats.\n",
      "severnoye found! Appending relevant stats.\n",
      "City not found. Skipping...\n",
      "kaniama found! Appending relevant stats.\n",
      "myitkyina found! Appending relevant stats.\n",
      "winneba found! Appending relevant stats.\n",
      "leshukonskoye found! Appending relevant stats.\n",
      "boundiali found! Appending relevant stats.\n",
      "buzmeyin found! Appending relevant stats.\n",
      "dunedin found! Appending relevant stats.\n",
      "zyryanka found! Appending relevant stats.\n",
      "dobric found! Appending relevant stats.\n",
      "sao miguel do araguaia found! Appending relevant stats.\n",
      "puerto madero found! Appending relevant stats.\n",
      "raudeberg found! Appending relevant stats.\n",
      "aswan found! Appending relevant stats.\n",
      "mahon found! Appending relevant stats.\n",
      "ust-nera found! Appending relevant stats.\n",
      "vestmanna found! Appending relevant stats.\n",
      "acapulco found! Appending relevant stats.\n",
      "macia found! Appending relevant stats.\n",
      "kununurra found! Appending relevant stats.\n",
      "sawtell found! Appending relevant stats.\n",
      "creil found! Appending relevant stats.\n",
      "ruteng found! Appending relevant stats.\n",
      "eyl found! Appending relevant stats.\n",
      "ust-maya found! Appending relevant stats.\n",
      "lobito found! Appending relevant stats.\n",
      "City not found. Skipping...\n",
      "oranjestad found! Appending relevant stats.\n",
      "puerto escondido found! Appending relevant stats.\n",
      "bell ville found! Appending relevant stats.\n",
      "City not found. Skipping...\n",
      "laela found! Appending relevant stats.\n",
      "waddan found! Appending relevant stats.\n",
      "kumluca found! Appending relevant stats.\n",
      "havelock found! Appending relevant stats.\n",
      "tazmalt found! Appending relevant stats.\n",
      "aras found! Appending relevant stats.\n",
      "samarinda found! Appending relevant stats.\n",
      "dhari found! Appending relevant stats.\n",
      "novyy urengoy found! Appending relevant stats.\n",
      "koundara found! Appending relevant stats.\n",
      "yar-sale found! Appending relevant stats.\n",
      "joshimath found! Appending relevant stats.\n",
      "kushikino found! Appending relevant stats.\n",
      "dayong found! Appending relevant stats.\n",
      "senanga found! Appending relevant stats.\n",
      "southampton found! Appending relevant stats.\n",
      "altamont found! Appending relevant stats.\n",
      "imbituba found! Appending relevant stats.\n",
      "yerofey pavlovich found! Appending relevant stats.\n",
      "russkaya polyana found! Appending relevant stats.\n",
      "sola found! Appending relevant stats.\n",
      "dhidhdhoo found! Appending relevant stats.\n",
      "vredendal found! Appending relevant stats.\n",
      "City not found. Skipping...\n",
      "kushima found! Appending relevant stats.\n",
      "eirunepe found! Appending relevant stats.\n",
      "tocopilla found! Appending relevant stats.\n",
      "verkhoyansk found! Appending relevant stats.\n"
     ]
    }
   ],
   "source": [
    "#retrieving requested data through iterative calls\n",
    "\n",
    "#creating list for the cities to store data into\n",
    "places = []\n",
    "\n",
    "#creating loop to obtain requested weather information\n",
    "#use subset_cities when testing the data\n",
    "#use cities when using the full cities list\n",
    "for city in cities:\n",
    "    #building query url \n",
    "    query_url= url2 + city\n",
    "    response = requests.get(query_url).json()\n",
    "\n",
    "    #try to grab the following information, if available\n",
    "    try:\n",
    "        latitude=response[\"coord\"][\"lat\"]\n",
    "        longitude=response[\"coord\"][\"lon\"]\n",
    "        temp=response[\"main\"][\"temp\"]\n",
    "        max_temp=response[\"main\"][\"temp_max\"]\n",
    "        humidity=response[\"main\"][\"humidity\"]\n",
    "        cloud=response[\"clouds\"][\"all\"]\n",
    "        wind=response[\"wind\"][\"speed\"]\n",
    "        country=response[\"sys\"][\"country\"]\n",
    "        date=response[\"dt\"]\n",
    "        places.append({'City' : city, \n",
    "                       'Country' : country,\n",
    "                        'Latitude' : latitude,\n",
    "                        'Longitude' : longitude,\n",
    "                        'Temperature (F)' : temp,\n",
    "                        'Max Temp (F)' : max_temp,\n",
    "                        'Humidity %' : humidity,\n",
    "                        'Cloudiness' : cloud,\n",
    "                        'Wind Speed (mph)' : wind,\n",
    "                        \"Date\" : date})\n",
    "        print(f\"{city} found! Appending relevant stats.\")\n",
    "        #limiting the number of API calls to 60 calls per minute, when using a large sample\n",
    "        time.sleep(1)\n",
    "    #including a condition for handling cities that do not exist\n",
    "    except KeyError:\n",
    "        print(f\"City not found. Skipping...\")\n",
    "    "
   ]
  },
  {
   "cell_type": "markdown",
   "metadata": {},
   "source": [
    "### Convert Raw Data to DataFrame\n",
    "* Export the city data into a .csv.\n",
    "* Display the DataFrame"
   ]
  },
  {
   "cell_type": "code",
   "execution_count": 97,
   "metadata": {},
   "outputs": [
    {
     "data": {
      "text/html": [
       "<div>\n",
       "<style scoped>\n",
       "    .dataframe tbody tr th:only-of-type {\n",
       "        vertical-align: middle;\n",
       "    }\n",
       "\n",
       "    .dataframe tbody tr th {\n",
       "        vertical-align: top;\n",
       "    }\n",
       "\n",
       "    .dataframe thead th {\n",
       "        text-align: right;\n",
       "    }\n",
       "</style>\n",
       "<table border=\"1\" class=\"dataframe\">\n",
       "  <thead>\n",
       "    <tr style=\"text-align: right;\">\n",
       "      <th></th>\n",
       "      <th>City</th>\n",
       "      <th>Country</th>\n",
       "      <th>Latitude</th>\n",
       "      <th>Longitude</th>\n",
       "      <th>Temperature (F)</th>\n",
       "      <th>Max Temp (F)</th>\n",
       "      <th>Humidity %</th>\n",
       "      <th>Cloudiness</th>\n",
       "      <th>Wind Speed (mph)</th>\n",
       "      <th>Date</th>\n",
       "    </tr>\n",
       "  </thead>\n",
       "  <tbody>\n",
       "    <tr>\n",
       "      <th>0</th>\n",
       "      <td>henties bay</td>\n",
       "      <td>NA</td>\n",
       "      <td>-22.1160</td>\n",
       "      <td>14.2845</td>\n",
       "      <td>69.85</td>\n",
       "      <td>69.85</td>\n",
       "      <td>80</td>\n",
       "      <td>7</td>\n",
       "      <td>7.25</td>\n",
       "      <td>1643132756</td>\n",
       "    </tr>\n",
       "    <tr>\n",
       "      <th>1</th>\n",
       "      <td>bethel</td>\n",
       "      <td>US</td>\n",
       "      <td>41.3712</td>\n",
       "      <td>-73.4140</td>\n",
       "      <td>37.83</td>\n",
       "      <td>40.24</td>\n",
       "      <td>71</td>\n",
       "      <td>100</td>\n",
       "      <td>4.00</td>\n",
       "      <td>1643132757</td>\n",
       "    </tr>\n",
       "    <tr>\n",
       "      <th>2</th>\n",
       "      <td>saint-francois</td>\n",
       "      <td>FR</td>\n",
       "      <td>46.4154</td>\n",
       "      <td>3.9054</td>\n",
       "      <td>33.24</td>\n",
       "      <td>36.68</td>\n",
       "      <td>93</td>\n",
       "      <td>0</td>\n",
       "      <td>1.14</td>\n",
       "      <td>1643132759</td>\n",
       "    </tr>\n",
       "    <tr>\n",
       "      <th>3</th>\n",
       "      <td>ushuaia</td>\n",
       "      <td>AR</td>\n",
       "      <td>-54.8000</td>\n",
       "      <td>-68.3000</td>\n",
       "      <td>42.46</td>\n",
       "      <td>44.22</td>\n",
       "      <td>75</td>\n",
       "      <td>100</td>\n",
       "      <td>29.93</td>\n",
       "      <td>1643132760</td>\n",
       "    </tr>\n",
       "    <tr>\n",
       "      <th>4</th>\n",
       "      <td>mar del plata</td>\n",
       "      <td>AR</td>\n",
       "      <td>-38.0023</td>\n",
       "      <td>-57.5575</td>\n",
       "      <td>74.88</td>\n",
       "      <td>82.42</td>\n",
       "      <td>92</td>\n",
       "      <td>75</td>\n",
       "      <td>18.99</td>\n",
       "      <td>1643132758</td>\n",
       "    </tr>\n",
       "    <tr>\n",
       "      <th>5</th>\n",
       "      <td>kruisfontein</td>\n",
       "      <td>ZA</td>\n",
       "      <td>-34.0033</td>\n",
       "      <td>24.7314</td>\n",
       "      <td>69.89</td>\n",
       "      <td>69.89</td>\n",
       "      <td>82</td>\n",
       "      <td>99</td>\n",
       "      <td>8.39</td>\n",
       "      <td>1643132763</td>\n",
       "    </tr>\n",
       "    <tr>\n",
       "      <th>6</th>\n",
       "      <td>bronnoysund</td>\n",
       "      <td>NO</td>\n",
       "      <td>65.4625</td>\n",
       "      <td>12.1997</td>\n",
       "      <td>35.60</td>\n",
       "      <td>35.60</td>\n",
       "      <td>75</td>\n",
       "      <td>75</td>\n",
       "      <td>16.11</td>\n",
       "      <td>1643132526</td>\n",
       "    </tr>\n",
       "    <tr>\n",
       "      <th>7</th>\n",
       "      <td>yumen</td>\n",
       "      <td>CN</td>\n",
       "      <td>40.2833</td>\n",
       "      <td>97.2000</td>\n",
       "      <td>17.78</td>\n",
       "      <td>17.78</td>\n",
       "      <td>42</td>\n",
       "      <td>0</td>\n",
       "      <td>2.91</td>\n",
       "      <td>1643132684</td>\n",
       "    </tr>\n",
       "    <tr>\n",
       "      <th>8</th>\n",
       "      <td>albany</td>\n",
       "      <td>US</td>\n",
       "      <td>42.6001</td>\n",
       "      <td>-73.9662</td>\n",
       "      <td>30.42</td>\n",
       "      <td>33.75</td>\n",
       "      <td>58</td>\n",
       "      <td>74</td>\n",
       "      <td>1.99</td>\n",
       "      <td>1643132617</td>\n",
       "    </tr>\n",
       "    <tr>\n",
       "      <th>9</th>\n",
       "      <td>dikson</td>\n",
       "      <td>RU</td>\n",
       "      <td>73.5069</td>\n",
       "      <td>80.5464</td>\n",
       "      <td>11.61</td>\n",
       "      <td>11.61</td>\n",
       "      <td>92</td>\n",
       "      <td>100</td>\n",
       "      <td>34.31</td>\n",
       "      <td>1643132676</td>\n",
       "    </tr>\n",
       "  </tbody>\n",
       "</table>\n",
       "</div>"
      ],
      "text/plain": [
       "             City Country  Latitude  Longitude  Temperature (F)  Max Temp (F)  \\\n",
       "0     henties bay      NA  -22.1160    14.2845            69.85         69.85   \n",
       "1          bethel      US   41.3712   -73.4140            37.83         40.24   \n",
       "2  saint-francois      FR   46.4154     3.9054            33.24         36.68   \n",
       "3         ushuaia      AR  -54.8000   -68.3000            42.46         44.22   \n",
       "4   mar del plata      AR  -38.0023   -57.5575            74.88         82.42   \n",
       "5    kruisfontein      ZA  -34.0033    24.7314            69.89         69.89   \n",
       "6     bronnoysund      NO   65.4625    12.1997            35.60         35.60   \n",
       "7           yumen      CN   40.2833    97.2000            17.78         17.78   \n",
       "8          albany      US   42.6001   -73.9662            30.42         33.75   \n",
       "9          dikson      RU   73.5069    80.5464            11.61         11.61   \n",
       "\n",
       "   Humidity %  Cloudiness  Wind Speed (mph)        Date  \n",
       "0          80           7              7.25  1643132756  \n",
       "1          71         100              4.00  1643132757  \n",
       "2          93           0              1.14  1643132759  \n",
       "3          75         100             29.93  1643132760  \n",
       "4          92          75             18.99  1643132758  \n",
       "5          82          99              8.39  1643132763  \n",
       "6          75          75             16.11  1643132526  \n",
       "7          42           0              2.91  1643132684  \n",
       "8          58          74              1.99  1643132617  \n",
       "9          92         100             34.31  1643132676  "
      ]
     },
     "execution_count": 97,
     "metadata": {},
     "output_type": "execute_result"
    }
   ],
   "source": [
    "city_data_df = pd.DataFrame(places)\n",
    "\n",
    "#viewing the dataframe\n",
    "city_data_df.head(10)"
   ]
  },
  {
   "cell_type": "code",
   "execution_count": 98,
   "metadata": {},
   "outputs": [
    {
     "data": {
      "text/html": [
       "<div>\n",
       "<style scoped>\n",
       "    .dataframe tbody tr th:only-of-type {\n",
       "        vertical-align: middle;\n",
       "    }\n",
       "\n",
       "    .dataframe tbody tr th {\n",
       "        vertical-align: top;\n",
       "    }\n",
       "\n",
       "    .dataframe thead th {\n",
       "        text-align: right;\n",
       "    }\n",
       "</style>\n",
       "<table border=\"1\" class=\"dataframe\">\n",
       "  <thead>\n",
       "    <tr style=\"text-align: right;\">\n",
       "      <th></th>\n",
       "      <th>Latitude</th>\n",
       "      <th>Longitude</th>\n",
       "      <th>Temperature (F)</th>\n",
       "      <th>Max Temp (F)</th>\n",
       "      <th>Humidity %</th>\n",
       "      <th>Cloudiness</th>\n",
       "      <th>Wind Speed (mph)</th>\n",
       "      <th>Date</th>\n",
       "    </tr>\n",
       "  </thead>\n",
       "  <tbody>\n",
       "    <tr>\n",
       "      <th>count</th>\n",
       "      <td>544.000000</td>\n",
       "      <td>544.000000</td>\n",
       "      <td>544.000000</td>\n",
       "      <td>544.000000</td>\n",
       "      <td>544.000000</td>\n",
       "      <td>544.000000</td>\n",
       "      <td>544.000000</td>\n",
       "      <td>5.440000e+02</td>\n",
       "    </tr>\n",
       "    <tr>\n",
       "      <th>mean</th>\n",
       "      <td>20.099162</td>\n",
       "      <td>17.257151</td>\n",
       "      <td>50.443125</td>\n",
       "      <td>51.170331</td>\n",
       "      <td>72.924632</td>\n",
       "      <td>60.193015</td>\n",
       "      <td>7.871287</td>\n",
       "      <td>1.643133e+09</td>\n",
       "    </tr>\n",
       "    <tr>\n",
       "      <th>std</th>\n",
       "      <td>33.145578</td>\n",
       "      <td>88.692192</td>\n",
       "      <td>32.522423</td>\n",
       "      <td>32.475122</td>\n",
       "      <td>21.477124</td>\n",
       "      <td>38.634156</td>\n",
       "      <td>6.537738</td>\n",
       "      <td>2.256531e+02</td>\n",
       "    </tr>\n",
       "    <tr>\n",
       "      <th>min</th>\n",
       "      <td>-54.800000</td>\n",
       "      <td>-179.166700</td>\n",
       "      <td>-43.110000</td>\n",
       "      <td>-43.110000</td>\n",
       "      <td>6.000000</td>\n",
       "      <td>0.000000</td>\n",
       "      <td>0.000000</td>\n",
       "      <td>1.643133e+09</td>\n",
       "    </tr>\n",
       "    <tr>\n",
       "      <th>25%</th>\n",
       "      <td>-6.908575</td>\n",
       "      <td>-60.897200</td>\n",
       "      <td>29.620000</td>\n",
       "      <td>31.952500</td>\n",
       "      <td>64.000000</td>\n",
       "      <td>20.000000</td>\n",
       "      <td>3.470000</td>\n",
       "      <td>1.643133e+09</td>\n",
       "    </tr>\n",
       "    <tr>\n",
       "      <th>50%</th>\n",
       "      <td>22.622500</td>\n",
       "      <td>17.954800</td>\n",
       "      <td>59.765000</td>\n",
       "      <td>61.260000</td>\n",
       "      <td>77.000000</td>\n",
       "      <td>75.000000</td>\n",
       "      <td>6.450000</td>\n",
       "      <td>1.643133e+09</td>\n",
       "    </tr>\n",
       "    <tr>\n",
       "      <th>75%</th>\n",
       "      <td>48.690550</td>\n",
       "      <td>99.472150</td>\n",
       "      <td>78.190000</td>\n",
       "      <td>78.490000</td>\n",
       "      <td>89.000000</td>\n",
       "      <td>99.000000</td>\n",
       "      <td>10.095000</td>\n",
       "      <td>1.643133e+09</td>\n",
       "    </tr>\n",
       "    <tr>\n",
       "      <th>max</th>\n",
       "      <td>78.218600</td>\n",
       "      <td>179.316700</td>\n",
       "      <td>107.200000</td>\n",
       "      <td>107.200000</td>\n",
       "      <td>100.000000</td>\n",
       "      <td>100.000000</td>\n",
       "      <td>50.640000</td>\n",
       "      <td>1.643133e+09</td>\n",
       "    </tr>\n",
       "  </tbody>\n",
       "</table>\n",
       "</div>"
      ],
      "text/plain": [
       "         Latitude   Longitude  Temperature (F)  Max Temp (F)  Humidity %  \\\n",
       "count  544.000000  544.000000       544.000000    544.000000  544.000000   \n",
       "mean    20.099162   17.257151        50.443125     51.170331   72.924632   \n",
       "std     33.145578   88.692192        32.522423     32.475122   21.477124   \n",
       "min    -54.800000 -179.166700       -43.110000    -43.110000    6.000000   \n",
       "25%     -6.908575  -60.897200        29.620000     31.952500   64.000000   \n",
       "50%     22.622500   17.954800        59.765000     61.260000   77.000000   \n",
       "75%     48.690550   99.472150        78.190000     78.490000   89.000000   \n",
       "max     78.218600  179.316700       107.200000    107.200000  100.000000   \n",
       "\n",
       "       Cloudiness  Wind Speed (mph)          Date  \n",
       "count  544.000000        544.000000  5.440000e+02  \n",
       "mean    60.193015          7.871287  1.643133e+09  \n",
       "std     38.634156          6.537738  2.256531e+02  \n",
       "min      0.000000          0.000000  1.643133e+09  \n",
       "25%     20.000000          3.470000  1.643133e+09  \n",
       "50%     75.000000          6.450000  1.643133e+09  \n",
       "75%     99.000000         10.095000  1.643133e+09  \n",
       "max    100.000000         50.640000  1.643133e+09  "
      ]
     },
     "execution_count": 98,
     "metadata": {},
     "output_type": "execute_result"
    }
   ],
   "source": [
    "#summary statistics\n",
    "city_data_df.describe()"
   ]
  },
  {
   "cell_type": "code",
   "execution_count": 99,
   "metadata": {},
   "outputs": [],
   "source": [
    "#writing city_Data_df to a csv\n",
    "city_data_df.to_csv(\"output_data/cities_weather.csv\",\n",
    "                  encoding=\"utf-8\", index=False, header=True)"
   ]
  },
  {
   "cell_type": "markdown",
   "metadata": {},
   "source": [
    "## Inspect the data and remove the cities where the humidity > 100%.\n",
    "----\n",
    "When this analysis was conducted, on January 25, 2022, there were no cities with humidity greater than 100 percent."
   ]
  },
  {
   "cell_type": "code",
   "execution_count": 100,
   "metadata": {},
   "outputs": [
    {
     "data": {
      "text/plain": [
       "Int64Index([], dtype='int64')"
      ]
     },
     "execution_count": 100,
     "metadata": {},
     "output_type": "execute_result"
    }
   ],
   "source": [
    "#checking for any cities with humidity greater than 100%\n",
    "# obtaining the indices of cities that have humidity over 100%.\n",
    "high_humid = city_data_df[city_data_df[\"Humidity %\"] > 100].index\n",
    "high_humid"
   ]
  },
  {
   "cell_type": "code",
   "execution_count": 101,
   "metadata": {},
   "outputs": [
    {
     "data": {
      "text/html": [
       "<div>\n",
       "<style scoped>\n",
       "    .dataframe tbody tr th:only-of-type {\n",
       "        vertical-align: middle;\n",
       "    }\n",
       "\n",
       "    .dataframe tbody tr th {\n",
       "        vertical-align: top;\n",
       "    }\n",
       "\n",
       "    .dataframe thead th {\n",
       "        text-align: right;\n",
       "    }\n",
       "</style>\n",
       "<table border=\"1\" class=\"dataframe\">\n",
       "  <thead>\n",
       "    <tr style=\"text-align: right;\">\n",
       "      <th></th>\n",
       "      <th>City</th>\n",
       "      <th>Country</th>\n",
       "      <th>Latitude</th>\n",
       "      <th>Longitude</th>\n",
       "      <th>Temperature (F)</th>\n",
       "      <th>Max Temp (F)</th>\n",
       "      <th>Humidity %</th>\n",
       "      <th>Cloudiness</th>\n",
       "      <th>Wind Speed (mph)</th>\n",
       "      <th>Date</th>\n",
       "    </tr>\n",
       "  </thead>\n",
       "  <tbody>\n",
       "    <tr>\n",
       "      <th>0</th>\n",
       "      <td>henties bay</td>\n",
       "      <td>NA</td>\n",
       "      <td>-22.1160</td>\n",
       "      <td>14.2845</td>\n",
       "      <td>69.85</td>\n",
       "      <td>69.85</td>\n",
       "      <td>80</td>\n",
       "      <td>7</td>\n",
       "      <td>7.25</td>\n",
       "      <td>1643132756</td>\n",
       "    </tr>\n",
       "    <tr>\n",
       "      <th>1</th>\n",
       "      <td>bethel</td>\n",
       "      <td>US</td>\n",
       "      <td>41.3712</td>\n",
       "      <td>-73.4140</td>\n",
       "      <td>37.83</td>\n",
       "      <td>40.24</td>\n",
       "      <td>71</td>\n",
       "      <td>100</td>\n",
       "      <td>4.00</td>\n",
       "      <td>1643132757</td>\n",
       "    </tr>\n",
       "    <tr>\n",
       "      <th>2</th>\n",
       "      <td>saint-francois</td>\n",
       "      <td>FR</td>\n",
       "      <td>46.4154</td>\n",
       "      <td>3.9054</td>\n",
       "      <td>33.24</td>\n",
       "      <td>36.68</td>\n",
       "      <td>93</td>\n",
       "      <td>0</td>\n",
       "      <td>1.14</td>\n",
       "      <td>1643132759</td>\n",
       "    </tr>\n",
       "    <tr>\n",
       "      <th>3</th>\n",
       "      <td>ushuaia</td>\n",
       "      <td>AR</td>\n",
       "      <td>-54.8000</td>\n",
       "      <td>-68.3000</td>\n",
       "      <td>42.46</td>\n",
       "      <td>44.22</td>\n",
       "      <td>75</td>\n",
       "      <td>100</td>\n",
       "      <td>29.93</td>\n",
       "      <td>1643132760</td>\n",
       "    </tr>\n",
       "    <tr>\n",
       "      <th>4</th>\n",
       "      <td>mar del plata</td>\n",
       "      <td>AR</td>\n",
       "      <td>-38.0023</td>\n",
       "      <td>-57.5575</td>\n",
       "      <td>74.88</td>\n",
       "      <td>82.42</td>\n",
       "      <td>92</td>\n",
       "      <td>75</td>\n",
       "      <td>18.99</td>\n",
       "      <td>1643132758</td>\n",
       "    </tr>\n",
       "  </tbody>\n",
       "</table>\n",
       "</div>"
      ],
      "text/plain": [
       "             City Country  Latitude  Longitude  Temperature (F)  Max Temp (F)  \\\n",
       "0     henties bay      NA  -22.1160    14.2845            69.85         69.85   \n",
       "1          bethel      US   41.3712   -73.4140            37.83         40.24   \n",
       "2  saint-francois      FR   46.4154     3.9054            33.24         36.68   \n",
       "3         ushuaia      AR  -54.8000   -68.3000            42.46         44.22   \n",
       "4   mar del plata      AR  -38.0023   -57.5575            74.88         82.42   \n",
       "\n",
       "   Humidity %  Cloudiness  Wind Speed (mph)        Date  \n",
       "0          80           7              7.25  1643132756  \n",
       "1          71         100              4.00  1643132757  \n",
       "2          93           0              1.14  1643132759  \n",
       "3          75         100             29.93  1643132760  \n",
       "4          92          75             18.99  1643132758  "
      ]
     },
     "execution_count": 101,
     "metadata": {},
     "output_type": "execute_result"
    }
   ],
   "source": [
    "clean_city_data=city_data_df.drop(high_humid, inplace=False)\n",
    "\n",
    "clean_city_data.head()"
   ]
  },
  {
   "cell_type": "markdown",
   "metadata": {},
   "source": [
    "## Plotting the Data\n",
    "* Use proper labeling of the plots using plot titles (including date of analysis) and axes labels.\n",
    "* Save the plotted figures as .pngs."
   ]
  },
  {
   "cell_type": "code",
   "execution_count": 102,
   "metadata": {},
   "outputs": [],
   "source": [
    "from datetime import date"
   ]
  },
  {
   "cell_type": "markdown",
   "metadata": {},
   "source": [
    "## Latitude vs. Temperature Plot"
   ]
  },
  {
   "cell_type": "code",
   "execution_count": 103,
   "metadata": {
    "scrolled": true
   },
   "outputs": [
    {
     "data": {
      "image/png": "[encoded data removed]",
      "text/plain": [
       "<Figure size 432x288 with 1 Axes>"
      ]
     },
     "metadata": {
      "needs_background": "light"
     },
     "output_type": "display_data"
    },
    {
     "data": {
      "text/plain": [
       "datetime.date(2022, 1, 25)"
      ]
     },
     "execution_count": 103,
     "metadata": {},
     "output_type": "execute_result"
    }
   ],
   "source": [
    "#creating a scatterplot\n",
    "x_values = clean_city_data['Latitude']\n",
    "y_values = clean_city_data['Temperature (F)']\n",
    "plt.scatter(x_values, y_values)\n",
    "plt.xlabel('Latitude')\n",
    "plt.ylabel('Max Temp (F)')\n",
    "today = date.today()\n",
    "plt.title(f'City Latitude vs. Max Temperature ({today})')\n",
    "\n",
    "#saving the figure as a png\n",
    "plt.savefig(\"images/LatvsTemp.png\")\n",
    "\n",
    "#showing the figure\n",
    "plt.show()\n",
    "today"
   ]
  },
  {
   "cell_type": "markdown",
   "metadata": {},
   "source": [
    "Observations about Temperature: This plot shows the relation between latitude and the maximum temperature for the sampled cities. There appears to be a curvilinear relationship between latitude and maximum temperature. A finer-grained analysis of northern versus southern hemisphere could ellucidate clearer trends."
   ]
  },
  {
   "cell_type": "markdown",
   "metadata": {},
   "source": [
    "## Latitude vs. Humidity Plot"
   ]
  },
  {
   "cell_type": "code",
   "execution_count": 104,
   "metadata": {},
   "outputs": [
    {
     "data": {
      "image/png": "[encoded data removed]",
      "text/plain": [
       "<Figure size 432x288 with 1 Axes>"
      ]
     },
     "metadata": {
      "needs_background": "light"
     },
     "output_type": "display_data"
    }
   ],
   "source": [
    "#creating a scatterplot for latitude versus humidity\n",
    "x_values = clean_city_data['Latitude']\n",
    "y_values = clean_city_data['Humidity %']\n",
    "plt.scatter(x_values, y_values)\n",
    "plt.xlabel('Latitude')\n",
    "plt.ylabel('Humidity %')\n",
    "today = date.today()\n",
    "plt.title(f'City Latitude vs. Humidity ({today})')\n",
    "\n",
    "#saving the figure as a png\n",
    "plt.savefig(\"images/LatvsHumidity.png\")\n",
    "\n",
    "#showing the figure\n",
    "plt.show()"
   ]
  },
  {
   "cell_type": "markdown",
   "metadata": {},
   "source": [
    "Observations about Humidity: This graph shows the relation between the latitude and percent humidity for the sampled cities. There does not appear to be a relation between latitude and humidity."
   ]
  },
  {
   "cell_type": "markdown",
   "metadata": {},
   "source": [
    "## Latitude vs. Cloudiness Plot"
   ]
  },
  {
   "cell_type": "code",
   "execution_count": 105,
   "metadata": {},
   "outputs": [
    {
     "data": {
      "image/png": "[encoded data removed]",
      "text/plain": [
       "<Figure size 432x288 with 1 Axes>"
      ]
     },
     "metadata": {
      "needs_background": "light"
     },
     "output_type": "display_data"
    }
   ],
   "source": [
    "#creating a scatterplot for latitude versus cloudiness\n",
    "x_values = clean_city_data['Latitude']\n",
    "y_values = clean_city_data['Cloudiness']\n",
    "plt.scatter(x_values, y_values)\n",
    "plt.xlabel('Latitude')\n",
    "plt.ylabel('Cloudiness %')\n",
    "today = date.today()\n",
    "plt.title(f'City Latitude vs. Cloudiness ({today})')\n",
    "\n",
    "#saving the figure as a png\n",
    "plt.savefig(\"images/LatvsCloudiness.png\")\n",
    "\n",
    "#showing the figure\n",
    "plt.show()"
   ]
  },
  {
   "cell_type": "markdown",
   "metadata": {},
   "source": [
    "Observations about Cloudiness: This plot shows the relation between latitude and cloudiness for the sampled cities. There does not appear to be a relation between latitude and cloudiness."
   ]
  },
  {
   "cell_type": "markdown",
   "metadata": {},
   "source": [
    "## Latitude vs. Wind Speed Plot"
   ]
  },
  {
   "cell_type": "code",
   "execution_count": 106,
   "metadata": {},
   "outputs": [
    {
     "data": {
      "image/png": "[encoded data removed]",
      "text/plain": [
       "<Figure size 432x288 with 1 Axes>"
      ]
     },
     "metadata": {
      "needs_background": "light"
     },
     "output_type": "display_data"
    }
   ],
   "source": [
    "#creating a scatterplot for latitude versus cloudiness\n",
    "x_values = clean_city_data['Latitude']\n",
    "y_values = clean_city_data['Wind Speed (mph)']\n",
    "plt.scatter(x_values, y_values)\n",
    "plt.xlabel('Latitude')\n",
    "plt.ylabel('Cloudiness %')\n",
    "today = date.today()\n",
    "plt.title(f'City Latitude vs. Wind Speed ({today})')\n",
    "\n",
    "#saving the figure as a png\n",
    "plt.savefig(\"images/LatvsWindSpeed.png\")\n",
    "\n",
    "#showing the figure\n",
    "plt.show()"
   ]
  },
  {
   "cell_type": "markdown",
   "metadata": {},
   "source": [
    "Observations about wind speed: This plot shows the relation between latitude and wind spped among the sampled cities. There does no appear to be a relation between latitude and wind speed."
   ]
  },
  {
   "cell_type": "markdown",
   "metadata": {},
   "source": [
    "## Linear Regression"
   ]
  },
  {
   "cell_type": "code",
   "execution_count": 107,
   "metadata": {},
   "outputs": [
    {
     "data": {
      "text/html": [
       "<div>\n",
       "<style scoped>\n",
       "    .dataframe tbody tr th:only-of-type {\n",
       "        vertical-align: middle;\n",
       "    }\n",
       "\n",
       "    .dataframe tbody tr th {\n",
       "        vertical-align: top;\n",
       "    }\n",
       "\n",
       "    .dataframe thead th {\n",
       "        text-align: right;\n",
       "    }\n",
       "</style>\n",
       "<table border=\"1\" class=\"dataframe\">\n",
       "  <thead>\n",
       "    <tr style=\"text-align: right;\">\n",
       "      <th></th>\n",
       "      <th>City</th>\n",
       "      <th>Country</th>\n",
       "      <th>Latitude</th>\n",
       "      <th>Longitude</th>\n",
       "      <th>Temperature (F)</th>\n",
       "      <th>Max Temp (F)</th>\n",
       "      <th>Humidity %</th>\n",
       "      <th>Cloudiness</th>\n",
       "      <th>Wind Speed (mph)</th>\n",
       "      <th>Date</th>\n",
       "    </tr>\n",
       "  </thead>\n",
       "  <tbody>\n",
       "    <tr>\n",
       "      <th>1</th>\n",
       "      <td>bethel</td>\n",
       "      <td>US</td>\n",
       "      <td>41.3712</td>\n",
       "      <td>-73.4140</td>\n",
       "      <td>37.83</td>\n",
       "      <td>40.24</td>\n",
       "      <td>71</td>\n",
       "      <td>100</td>\n",
       "      <td>4.00</td>\n",
       "      <td>1643132757</td>\n",
       "    </tr>\n",
       "    <tr>\n",
       "      <th>2</th>\n",
       "      <td>saint-francois</td>\n",
       "      <td>FR</td>\n",
       "      <td>46.4154</td>\n",
       "      <td>3.9054</td>\n",
       "      <td>33.24</td>\n",
       "      <td>36.68</td>\n",
       "      <td>93</td>\n",
       "      <td>0</td>\n",
       "      <td>1.14</td>\n",
       "      <td>1643132759</td>\n",
       "    </tr>\n",
       "    <tr>\n",
       "      <th>6</th>\n",
       "      <td>bronnoysund</td>\n",
       "      <td>NO</td>\n",
       "      <td>65.4625</td>\n",
       "      <td>12.1997</td>\n",
       "      <td>35.60</td>\n",
       "      <td>35.60</td>\n",
       "      <td>75</td>\n",
       "      <td>75</td>\n",
       "      <td>16.11</td>\n",
       "      <td>1643132526</td>\n",
       "    </tr>\n",
       "    <tr>\n",
       "      <th>7</th>\n",
       "      <td>yumen</td>\n",
       "      <td>CN</td>\n",
       "      <td>40.2833</td>\n",
       "      <td>97.2000</td>\n",
       "      <td>17.78</td>\n",
       "      <td>17.78</td>\n",
       "      <td>42</td>\n",
       "      <td>0</td>\n",
       "      <td>2.91</td>\n",
       "      <td>1643132684</td>\n",
       "    </tr>\n",
       "    <tr>\n",
       "      <th>8</th>\n",
       "      <td>albany</td>\n",
       "      <td>US</td>\n",
       "      <td>42.6001</td>\n",
       "      <td>-73.9662</td>\n",
       "      <td>30.42</td>\n",
       "      <td>33.75</td>\n",
       "      <td>58</td>\n",
       "      <td>74</td>\n",
       "      <td>1.99</td>\n",
       "      <td>1643132617</td>\n",
       "    </tr>\n",
       "  </tbody>\n",
       "</table>\n",
       "</div>"
      ],
      "text/plain": [
       "             City Country  Latitude  Longitude  Temperature (F)  Max Temp (F)  \\\n",
       "1          bethel      US   41.3712   -73.4140            37.83         40.24   \n",
       "2  saint-francois      FR   46.4154     3.9054            33.24         36.68   \n",
       "6     bronnoysund      NO   65.4625    12.1997            35.60         35.60   \n",
       "7           yumen      CN   40.2833    97.2000            17.78         17.78   \n",
       "8          albany      US   42.6001   -73.9662            30.42         33.75   \n",
       "\n",
       "   Humidity %  Cloudiness  Wind Speed (mph)        Date  \n",
       "1          71         100              4.00  1643132757  \n",
       "2          93           0              1.14  1643132759  \n",
       "6          75          75             16.11  1643132526  \n",
       "7          42           0              2.91  1643132684  \n",
       "8          58          74              1.99  1643132617  "
      ]
     },
     "execution_count": 107,
     "metadata": {},
     "output_type": "execute_result"
    }
   ],
   "source": [
    "#creating dataframe for just the northern hemisphere data\n",
    "north_hem = clean_city_data.loc[clean_city_data[\"Latitude\"] >= 0]\n",
    "\n",
    "#printing the dataframe\n",
    "north_hem.head()\n"
   ]
  },
  {
   "cell_type": "code",
   "execution_count": 108,
   "metadata": {},
   "outputs": [
    {
     "data": {
      "text/html": [
       "<div>\n",
       "<style scoped>\n",
       "    .dataframe tbody tr th:only-of-type {\n",
       "        vertical-align: middle;\n",
       "    }\n",
       "\n",
       "    .dataframe tbody tr th {\n",
       "        vertical-align: top;\n",
       "    }\n",
       "\n",
       "    .dataframe thead th {\n",
       "        text-align: right;\n",
       "    }\n",
       "</style>\n",
       "<table border=\"1\" class=\"dataframe\">\n",
       "  <thead>\n",
       "    <tr style=\"text-align: right;\">\n",
       "      <th></th>\n",
       "      <th>City</th>\n",
       "      <th>Country</th>\n",
       "      <th>Latitude</th>\n",
       "      <th>Longitude</th>\n",
       "      <th>Temperature (F)</th>\n",
       "      <th>Max Temp (F)</th>\n",
       "      <th>Humidity %</th>\n",
       "      <th>Cloudiness</th>\n",
       "      <th>Wind Speed (mph)</th>\n",
       "      <th>Date</th>\n",
       "    </tr>\n",
       "  </thead>\n",
       "  <tbody>\n",
       "    <tr>\n",
       "      <th>0</th>\n",
       "      <td>henties bay</td>\n",
       "      <td>NA</td>\n",
       "      <td>-22.1160</td>\n",
       "      <td>14.2845</td>\n",
       "      <td>69.85</td>\n",
       "      <td>69.85</td>\n",
       "      <td>80</td>\n",
       "      <td>7</td>\n",
       "      <td>7.25</td>\n",
       "      <td>1643132756</td>\n",
       "    </tr>\n",
       "    <tr>\n",
       "      <th>3</th>\n",
       "      <td>ushuaia</td>\n",
       "      <td>AR</td>\n",
       "      <td>-54.8000</td>\n",
       "      <td>-68.3000</td>\n",
       "      <td>42.46</td>\n",
       "      <td>44.22</td>\n",
       "      <td>75</td>\n",
       "      <td>100</td>\n",
       "      <td>29.93</td>\n",
       "      <td>1643132760</td>\n",
       "    </tr>\n",
       "    <tr>\n",
       "      <th>4</th>\n",
       "      <td>mar del plata</td>\n",
       "      <td>AR</td>\n",
       "      <td>-38.0023</td>\n",
       "      <td>-57.5575</td>\n",
       "      <td>74.88</td>\n",
       "      <td>82.42</td>\n",
       "      <td>92</td>\n",
       "      <td>75</td>\n",
       "      <td>18.99</td>\n",
       "      <td>1643132758</td>\n",
       "    </tr>\n",
       "    <tr>\n",
       "      <th>5</th>\n",
       "      <td>kruisfontein</td>\n",
       "      <td>ZA</td>\n",
       "      <td>-34.0033</td>\n",
       "      <td>24.7314</td>\n",
       "      <td>69.89</td>\n",
       "      <td>69.89</td>\n",
       "      <td>82</td>\n",
       "      <td>99</td>\n",
       "      <td>8.39</td>\n",
       "      <td>1643132763</td>\n",
       "    </tr>\n",
       "    <tr>\n",
       "      <th>11</th>\n",
       "      <td>vaini</td>\n",
       "      <td>TO</td>\n",
       "      <td>-21.2000</td>\n",
       "      <td>-175.2000</td>\n",
       "      <td>78.96</td>\n",
       "      <td>78.96</td>\n",
       "      <td>89</td>\n",
       "      <td>40</td>\n",
       "      <td>8.05</td>\n",
       "      <td>1643132770</td>\n",
       "    </tr>\n",
       "  </tbody>\n",
       "</table>\n",
       "</div>"
      ],
      "text/plain": [
       "             City Country  Latitude  Longitude  Temperature (F)  Max Temp (F)  \\\n",
       "0     henties bay      NA  -22.1160    14.2845            69.85         69.85   \n",
       "3         ushuaia      AR  -54.8000   -68.3000            42.46         44.22   \n",
       "4   mar del plata      AR  -38.0023   -57.5575            74.88         82.42   \n",
       "5    kruisfontein      ZA  -34.0033    24.7314            69.89         69.89   \n",
       "11          vaini      TO  -21.2000  -175.2000            78.96         78.96   \n",
       "\n",
       "    Humidity %  Cloudiness  Wind Speed (mph)        Date  \n",
       "0           80           7              7.25  1643132756  \n",
       "3           75         100             29.93  1643132760  \n",
       "4           92          75             18.99  1643132758  \n",
       "5           82          99              8.39  1643132763  \n",
       "11          89          40              8.05  1643132770  "
      ]
     },
     "execution_count": 108,
     "metadata": {},
     "output_type": "execute_result"
    }
   ],
   "source": [
    "#creating dataframe for just the southern hemisphere data\n",
    "south_hem = clean_city_data.loc[clean_city_data[\"Latitude\"] < 0]\n",
    "\n",
    "#viewing the dataframe\n",
    "south_hem.head()"
   ]
  },
  {
   "cell_type": "markdown",
   "metadata": {},
   "source": [
    "####  Northern Hemisphere - Max Temp vs. Latitude Linear Regression"
   ]
  },
  {
   "cell_type": "code",
   "execution_count": 109,
   "metadata": {},
   "outputs": [
    {
     "name": "stdout",
     "output_type": "stream",
     "text": [
      "y = -1.37x +92.59\n"
     ]
    }
   ],
   "source": [
    "#computing the regression for temperature versus latitude\n",
    "#declaring x and y\n",
    "north_lat = north_hem['Latitude']\n",
    "north_temp = north_hem['Max Temp (F)']\n",
    "\n",
    "#performing the regression\n",
    "(slope, intercept, rvalue, pvalue, stderr) = stats.linregress(north_lat, north_temp)\n",
    "\n",
    "#obtaining regression values\n",
    "regress_values = north_lat * slope + intercept\n",
    "\n",
    "#creating the equation string to be printed on the chart\n",
    "line_eq = \"y = \" + str(round(slope,2)) + \"x +\" + str(round(intercept,2))\n",
    "\n",
    "#printing the line\n",
    "print(line_eq)"
   ]
  },
  {
   "cell_type": "code",
   "execution_count": 110,
   "metadata": {},
   "outputs": [
    {
     "name": "stdout",
     "output_type": "stream",
     "text": [
      "The r-value is: 0.7274789950389424\n"
     ]
    },
    {
     "data": {
      "image/png": "[encoded data removed]",
      "text/plain": [
       "<Figure size 432x288 with 1 Axes>"
      ]
     },
     "metadata": {
      "needs_background": "light"
     },
     "output_type": "display_data"
    }
   ],
   "source": [
    "#plotting a scatter plot for the maximum temperature in the northern hemisphere\n",
    "plt.scatter(north_lat, north_temp)\n",
    "plt.plot(north_lat,regress_values,\"r-\")\n",
    "\n",
    "#label the plot and annotate the line equation\n",
    "plt.xlabel('Latitude')\n",
    "plt.ylabel('Max Temperature (F)')\n",
    "plt.annotate(line_eq,(10,-10), fontsize=15, color = \"green\")\n",
    "today = date.today()\n",
    "plt.title(f'Northern Cities Latitude versus Max Temperature ({today})')\n",
    "\n",
    "#print r value for the correlation\n",
    "print(f\"The r-value is: {rvalue**2}\")\n",
    "      \n",
    "#saving the plot as a png\n",
    "plt.savefig(\"images/NorthMaxTempvsLat.png\")\n",
    "      \n",
    "#showing the plot\n",
    "plt.show()"
   ]
  },
  {
   "cell_type": "markdown",
   "metadata": {},
   "source": [
    "####  Southern Hemisphere - Max Temp vs. Latitude Linear Regression"
   ]
  },
  {
   "cell_type": "code",
   "execution_count": 111,
   "metadata": {},
   "outputs": [
    {
     "name": "stdout",
     "output_type": "stream",
     "text": [
      "y = 0.31x+82.8\n"
     ]
    }
   ],
   "source": [
    "#computing the regression for temperature versus latitude\n",
    "#declaring x and y\n",
    "south_lat = south_hem['Latitude']\n",
    "south_temp = south_hem['Max Temp (F)']\n",
    "\n",
    "#performing the regression\n",
    "(slope, intercept, rvalue, pvalue, stderr) = stats.linregress(south_lat, south_temp)\n",
    "\n",
    "#obtaining regression values\n",
    "regress_values = south_lat * slope + intercept\n",
    "\n",
    "#creating the equation string to be printed on the chart\n",
    "line_eq = \"y = \" + str(round(slope,2)) + \"x+\" + str(round(intercept,2))\n",
    "\n",
    "#printing the line\n",
    "print(line_eq)"
   ]
  },
  {
   "cell_type": "code",
   "execution_count": 112,
   "metadata": {},
   "outputs": [
    {
     "name": "stdout",
     "output_type": "stream",
     "text": [
      "The r-value is: 0.16739028568426173\n"
     ]
    },
    {
     "data": {
      "image/png": "[encoded data removed]",
      "text/plain": [
       "<Figure size 432x288 with 1 Axes>"
      ]
     },
     "metadata": {
      "needs_background": "light"
     },
     "output_type": "display_data"
    }
   ],
   "source": [
    "#plotting a scatter plot for the maximum temperature in the northern hemisphere\n",
    "plt.scatter(south_lat, south_temp)\n",
    "plt.plot(south_lat,regress_values,\"r-\")\n",
    "\n",
    "#label the plot and annotate the line equation\n",
    "plt.xlabel('Latitude')\n",
    "plt.ylabel('Max Temperature (F)')\n",
    "today = date.today()\n",
    "plt.title(f'Southern Cities Latitude versus Max Temperature ({today})')\n",
    "plt.annotate(line_eq,(-40,50), fontsize=15, color = \"green\")\n",
    "\n",
    "#print r value for the correlation\n",
    "print(f\"The r-value is: {rvalue**2}\")\n",
    "      \n",
    "#saving the plot as a png\n",
    "plt.savefig(\"images/SouthMaxTempvsLat.png\")\n",
    "      \n",
    "#showing the plot\n",
    "plt.show()"
   ]
  },
  {
   "cell_type": "markdown",
   "metadata": {},
   "source": [
    "Observations About Maximum Temperature:These plots show the relation between latitude and the maximum temperature in the northern and souther hemispheres. The plot for the northern hemisphere reveals there is a fairly strong, positive correlation between latitude and maximum temperature (r2= 0.73), such that the further north the city, the lower the maximum temperature.\n",
    "\n",
    "By contrast, the relation between latitude and maximum temperature for the southern cities is very weak (r2=0.17), which could suggest there is no relation between latitude and maximum temperature."
   ]
  },
  {
   "cell_type": "markdown",
   "metadata": {},
   "source": [
    "####  Northern Hemisphere - Humidity (%) vs. Latitude Linear Regression"
   ]
  },
  {
   "cell_type": "code",
   "execution_count": 113,
   "metadata": {},
   "outputs": [
    {
     "name": "stdout",
     "output_type": "stream",
     "text": [
      "y = 0.58x+50.42\n"
     ]
    }
   ],
   "source": [
    "#computing the regression for humidity versus latitude\n",
    "#declaring x and y\n",
    "north_lat = north_hem['Latitude']\n",
    "north_humid = north_hem['Humidity %']\n",
    "\n",
    "#performing the regression\n",
    "(slope, intercept, rvalue, pvalue, stderr) = stats.linregress(north_lat, north_humid)\n",
    "\n",
    "#obtaining regression values\n",
    "regress_values = north_lat * slope + intercept\n",
    "\n",
    "#creating the equation string to be printed on the chart\n",
    "line_eq = \"y = \" + str(round(slope,2)) + \"x+\" + str(round(intercept,2))\n",
    "\n",
    "#printing the line\n",
    "print(line_eq)"
   ]
  },
  {
   "cell_type": "code",
   "execution_count": 114,
   "metadata": {},
   "outputs": [
    {
     "name": "stdout",
     "output_type": "stream",
     "text": [
      "The r-value is: 0.26923185497492\n"
     ]
    },
    {
     "data": {
      "image/png": "[encoded data removed]",
      "text/plain": [
       "<Figure size 432x288 with 1 Axes>"
      ]
     },
     "metadata": {
      "needs_background": "light"
     },
     "output_type": "display_data"
    }
   ],
   "source": [
    "#plotting a scatter plot for humidity and latitude in the northern hemisphere\n",
    "plt.scatter(north_lat, north_humid)\n",
    "plt.plot(north_lat,regress_values,\"r-\")\n",
    "\n",
    "#label the plot and annotate the line equation\n",
    "plt.xlabel('Latitude')\n",
    "plt.ylabel('Humidity &')\n",
    "plt.annotate(line_eq,(40,15), fontsize=15, color = \"green\")\n",
    "today = date.today()\n",
    "plt.title(f'Northern Cities Latitude versus Humidity ({today})')\n",
    "\n",
    "#print r value for the correlation\n",
    "print(f\"The r-value is: {rvalue**2}\")\n",
    "      \n",
    "#saving the plot as a png\n",
    "plt.savefig(\"images/NorthHumidvsLat.png\")\n",
    "      \n",
    "#showing the plot\n",
    "plt.show()"
   ]
  },
  {
   "cell_type": "markdown",
   "metadata": {},
   "source": [
    "####  Southern Hemisphere - Humidity (%) vs. Latitude Linear Regression"
   ]
  },
  {
   "cell_type": "code",
   "execution_count": 115,
   "metadata": {},
   "outputs": [
    {
     "name": "stdout",
     "output_type": "stream",
     "text": [
      "y = 0.17x+76.48\n"
     ]
    }
   ],
   "source": [
    "#computing the regression for humidity versus latitude\n",
    "#declaring x and y\n",
    "south_lat = south_hem['Latitude']\n",
    "south_humid = south_hem['Humidity %']\n",
    "\n",
    "#performing the regression\n",
    "(slope, intercept, rvalue, pvalue, stderr) = stats.linregress(south_lat, south_humid)\n",
    "\n",
    "#obtaining regression values\n",
    "regress_values = south_lat * slope + intercept\n",
    "\n",
    "#creating the equation string to be printed on the chart\n",
    "line_eq = \"y = \" + str(round(slope,2)) + \"x+\" + str(round(intercept,2))\n",
    "\n",
    "#printing the line\n",
    "print(line_eq)"
   ]
  },
  {
   "cell_type": "code",
   "execution_count": 116,
   "metadata": {},
   "outputs": [
    {
     "name": "stdout",
     "output_type": "stream",
     "text": [
      "The r-value is: 0.015993859287629687\n"
     ]
    },
    {
     "data": {
      "image/png": "[encoded data removed]",
      "text/plain": [
       "<Figure size 432x288 with 1 Axes>"
      ]
     },
     "metadata": {
      "needs_background": "light"
     },
     "output_type": "display_data"
    }
   ],
   "source": [
    "#plotting a scatter plot for humidity and latitude for the southern hemisphere\n",
    "plt.scatter(south_lat, south_humid)\n",
    "plt.plot(south_lat,regress_values,\"r-\")\n",
    "\n",
    "#label the plot and annotate the line equation\n",
    "plt.xlabel('Latitude')\n",
    "plt.ylabel('Humidity %')\n",
    "plt.annotate(line_eq,(-20,40), fontsize=15, color = \"green\")\n",
    "today = date.today()\n",
    "plt.title(f'Southern Cities Latitude versus Humidity ({today})')\n",
    "\n",
    "#print r value for the correlation\n",
    "print(f\"The r-value is: {rvalue**2}\")\n",
    "      \n",
    "#saving the plot as a png\n",
    "plt.savefig(\"images/SouthHumidvsLat.png\")\n",
    "      \n",
    "#showing the plot\n",
    "plt.show()"
   ]
  },
  {
   "cell_type": "markdown",
   "metadata": {},
   "source": [
    "Observations About Humidity: These scatter plots show the relation between latitude and humidity for the northern and souther hemispheres. For the northern hemisphere, the relation between latitude and humidity is weak (r2 = 0.27), which could suggest no relation. Likewise for the southern hemisphere, the relation between latitude and humidity is also very weak (r2 = 0.02), which could suggest absolutely no relation."
   ]
  },
  {
   "cell_type": "markdown",
   "metadata": {},
   "source": [
    "####  Northern Hemisphere - Cloudiness (%) vs. Latitude Linear Regression"
   ]
  },
  {
   "cell_type": "code",
   "execution_count": 117,
   "metadata": {},
   "outputs": [
    {
     "name": "stdout",
     "output_type": "stream",
     "text": [
      "y = 0.65x+33.52\n"
     ]
    }
   ],
   "source": [
    "#computing the regression for cloudiness versus latitude\n",
    "#declaring x and y\n",
    "north_lat = north_hem['Latitude']\n",
    "north_cloud = north_hem['Cloudiness']\n",
    "\n",
    "#performing the regression\n",
    "(slope, intercept, rvalue, pvalue, stderr) = stats.linregress(north_lat, north_cloud)\n",
    "\n",
    "#obtaining regression values\n",
    "regress_values = north_lat * slope + intercept\n",
    "\n",
    "#creating the equation string to be printed on the chart\n",
    "line_eq = \"y = \" + str(round(slope,2)) + \"x+\" + str(round(intercept,2))\n",
    "\n",
    "#printing the line\n",
    "print(line_eq)"
   ]
  },
  {
   "cell_type": "code",
   "execution_count": 118,
   "metadata": {},
   "outputs": [
    {
     "name": "stdout",
     "output_type": "stream",
     "text": [
      "The r-value is: 0.11306681710865693\n"
     ]
    },
    {
     "data": {
      "image/png": "[encoded data removed]",
      "text/plain": [
       "<Figure size 432x288 with 1 Axes>"
      ]
     },
     "metadata": {
      "needs_background": "light"
     },
     "output_type": "display_data"
    }
   ],
   "source": [
    "#plotting a scatter plot for cloudiness and latitude for the southern hemisphere\n",
    "plt.scatter(north_lat, north_cloud)\n",
    "plt.plot(north_lat,regress_values,\"r-\")\n",
    "\n",
    "#label the plot and annotate the line equation\n",
    "plt.xlabel('Latitude')\n",
    "plt.ylabel('Cloudiness %')\n",
    "plt.annotate(line_eq,(40,45), fontsize=15, color = \"green\")\n",
    "today = date.today()\n",
    "plt.title(f'Northern Cities Latitude versus Cloudiness ({today})')\n",
    "\n",
    "#print r value for the correlation\n",
    "print(f\"The r-value is: {rvalue**2}\")\n",
    "      \n",
    "#saving the plot as a png\n",
    "plt.savefig(\"images/NorthCloudvsLat.png\")\n",
    "      \n",
    "#showing the plot\n",
    "plt.show()"
   ]
  },
  {
   "cell_type": "markdown",
   "metadata": {},
   "source": [
    "####  Southern Hemisphere - Cloudiness (%) vs. Latitude Linear Regression"
   ]
  },
  {
   "cell_type": "code",
   "execution_count": 119,
   "metadata": {},
   "outputs": [
    {
     "name": "stdout",
     "output_type": "stream",
     "text": [
      "y = 1.15x +87.24\n"
     ]
    }
   ],
   "source": [
    "#computing the regression for cloudiness versus latitude\n",
    "#declaring x and y\n",
    "south_lat = south_hem['Latitude']\n",
    "south_cloud = south_hem['Cloudiness']\n",
    "\n",
    "#performing the regression\n",
    "(slope, intercept, rvalue, pvalue, stderr) = stats.linregress(south_lat, south_cloud)\n",
    "\n",
    "#obtaining regression values\n",
    "regress_values = south_lat * slope + intercept\n",
    "\n",
    "#creating the equation string to be printed on the chart\n",
    "line_eq = \"y = \" + str(round(slope,2)) + \"x +\" + str(round(intercept,2))\n",
    "\n",
    "#printing the line\n",
    "print(line_eq)"
   ]
  },
  {
   "cell_type": "code",
   "execution_count": 120,
   "metadata": {},
   "outputs": [
    {
     "name": "stdout",
     "output_type": "stream",
     "text": [
      "The r-value is: 0.17937519422134043\n"
     ]
    },
    {
     "data": {
      "image/png": "[encoded data removed]",
      "text/plain": [
       "<Figure size 432x288 with 1 Axes>"
      ]
     },
     "metadata": {
      "needs_background": "light"
     },
     "output_type": "display_data"
    }
   ],
   "source": [
    "#plotting a scatter plot for cloudiness and latitude for the southern hemisphere\n",
    "plt.scatter(south_lat, south_cloud)\n",
    "plt.plot(south_lat,regress_values,\"r-\")\n",
    "\n",
    "#label the plot and annotate the line equation\n",
    "plt.xlabel('Latitude')\n",
    "plt.ylabel('Cloudiness %')\n",
    "plt.annotate(line_eq,(-40,25), fontsize=15, color = \"green\")\n",
    "today = date.today()\n",
    "plt.title(f'Southern Cities Latitude versus Cloudiness ({today})')\n",
    "\n",
    "#print r value for the correlation\n",
    "print(f\"The r-value is: {rvalue**2}\")\n",
    "      \n",
    "#saving the plot as a png\n",
    "plt.savefig(\"images/SouthCloudvsLat.png\")\n",
    "      \n",
    "#showing the plot\n",
    "plt.show()"
   ]
  },
  {
   "cell_type": "markdown",
   "metadata": {},
   "source": [
    "Observations About Cloudiness: These scatter plots show the relation between latitude and cloudiness for the northern and souther hemispheres. For the northern hemisphere, the relation between latitude and cloudiness is weak (r2 = 0.11), which could suggest no relation. Likewise for the southern hemisphere, the relation between latitude and cloudiness is also weak (r2 = 0.18), which could suggest no relation."
   ]
  },
  {
   "cell_type": "markdown",
   "metadata": {},
   "source": [
    "####  Northern Hemisphere - Wind Speed (mph) vs. Latitude Linear Regression"
   ]
  },
  {
   "cell_type": "code",
   "execution_count": 121,
   "metadata": {},
   "outputs": [
    {
     "name": "stdout",
     "output_type": "stream",
     "text": [
      "y = 0.08x+4.47\n"
     ]
    }
   ],
   "source": [
    "#computing the regression for wind speed versus latitude\n",
    "#declaring x and y\n",
    "north_lat = north_hem['Latitude']\n",
    "north_wind = north_hem['Wind Speed (mph)']\n",
    "\n",
    "#performing the regression\n",
    "(slope, intercept, rvalue, pvalue, stderr) = stats.linregress(north_lat, north_wind)\n",
    "\n",
    "#obtaining regression values\n",
    "regress_values = north_lat * slope + intercept\n",
    "\n",
    "#creating the equation string to be printed on the chart\n",
    "line_eq = \"y = \" + str(round(slope,2)) + \"x+\" + str(round(intercept,2))\n",
    "\n",
    "#printing the line\n",
    "print(line_eq)"
   ]
  },
  {
   "cell_type": "code",
   "execution_count": 122,
   "metadata": {},
   "outputs": [
    {
     "name": "stdout",
     "output_type": "stream",
     "text": [
      "The r-value is: 0.056276700213368225\n"
     ]
    },
    {
     "data": {
      "image/png": "[encoded data removed]",
      "text/plain": [
       "<Figure size 432x288 with 1 Axes>"
      ]
     },
     "metadata": {
      "needs_background": "light"
     },
     "output_type": "display_data"
    }
   ],
   "source": [
    "#plotting a scatter plot for wind speed and latitude for the northern hemisphere\n",
    "plt.scatter(north_lat, north_wind)\n",
    "plt.plot(north_lat,regress_values,\"r-\")\n",
    "\n",
    "#label the plot and annotate the line equation\n",
    "plt.xlabel('Latitude')\n",
    "plt.ylabel('Wind Speed (mph)')\n",
    "plt.annotate(line_eq,(20,30), fontsize=15, color = \"green\")\n",
    "today = date.today()\n",
    "plt.title(f'Northern Cities Latitude versus Wind Speed ({today})')\n",
    "\n",
    "#print r value for the correlation\n",
    "print(f\"The r-value is: {rvalue**2}\")\n",
    "      \n",
    "#saving the plot as a png\n",
    "plt.savefig(\"images/NorthWindvsLat.png\")\n",
    "      \n",
    "#showing the plot\n",
    "plt.show()"
   ]
  },
  {
   "cell_type": "markdown",
   "metadata": {},
   "source": [
    "####  Southern Hemisphere - Wind Speed (mph) vs. Latitude Linear Regression"
   ]
  },
  {
   "cell_type": "code",
   "execution_count": 123,
   "metadata": {},
   "outputs": [
    {
     "name": "stdout",
     "output_type": "stream",
     "text": [
      "y = -0.08x+6.91\n"
     ]
    }
   ],
   "source": [
    "#computing the regression for wind speed versus latitude\n",
    "#declaring x and y\n",
    "south_lat = south_hem['Latitude']\n",
    "south_wind = south_hem['Wind Speed (mph)']\n",
    "\n",
    "#performing the regression\n",
    "(slope, intercept, rvalue, pvalue, stderr) = stats.linregress(south_lat, south_wind)\n",
    "\n",
    "#obtaining regression values\n",
    "regress_values = south_lat * slope + intercept\n",
    "\n",
    "#creating the equation string to be printed on the chart\n",
    "line_eq = \"y = \" + str(round(slope,2)) + \"x+\" + str(round(intercept,2))\n",
    "\n",
    "#printing the line\n",
    "print(line_eq)"
   ]
  },
  {
   "cell_type": "code",
   "execution_count": 124,
   "metadata": {},
   "outputs": [
    {
     "name": "stdout",
     "output_type": "stream",
     "text": [
      "The r-value is: 0.034778845202787054\n"
     ]
    },
    {
     "data": {
      "image/png": "[encoded data removed]",
      "text/plain": [
       "<Figure size 432x288 with 1 Axes>"
      ]
     },
     "metadata": {
      "needs_background": "light"
     },
     "output_type": "display_data"
    }
   ],
   "source": [
    "#plotting a scatter plot for wind speed and latitude for the southern hemisphere\n",
    "plt.scatter(south_lat, south_wind)\n",
    "plt.plot(south_lat,regress_values,\"r-\")\n",
    "\n",
    "#label the plot and annotate the line equation\n",
    "plt.xlabel('Latitude')\n",
    "plt.ylabel('Wind Speed (mph)')\n",
    "plt.annotate(line_eq,(-25,25), fontsize=15, color = \"green\")\n",
    "today = date.today()\n",
    "plt.title(f'Southern Cities Latitude versus Wind Speed ({today})')\n",
    "\n",
    "#print r value for the correlation\n",
    "print(f\"The r-value is: {rvalue**2}\")\n",
    "      \n",
    "#saving the plot as a png\n",
    "plt.savefig(\"images/SouthWindvsLat.png\")\n",
    "      \n",
    "#showing the plot\n",
    "plt.show()"
   ]
  },
  {
   "cell_type": "markdown",
   "metadata": {},
   "source": [
    "Observations about Wind Speed: These scatter plots show the relation between latitude and wind speed for the northern and souther hemispheres. For the northern hemisphere, the relation between latitude and wind speed is weak (r2 = 0.06), which could suggest no relation. Likewise for the southern hemisphere, the relation between latitude and cloudiness is also weak (r2 = 0.03), which could suggest no relation."
   ]
  }
 ],
 "metadata": {
  "anaconda-cloud": {},
  "kernel_info": {
   "name": "python3"
  },
  "kernelspec": {
   "display_name": "pythondata",
   "language": "python",
   "name": "pythondata"
  },
  "language_info": {
   "codemirror_mode": {
    "name": "ipython",
    "version": 3
   },
   "file_extension": ".py",
   "mimetype": "text/x-python",
   "name": "python",
   "nbconvert_exporter": "python",
   "pygments_lexer": "ipython3",
   "version": "3.8.8"
  },
  "latex_envs": {
   "LaTeX_envs_menu_present": true,
   "autoclose": false,
   "autocomplete": true,
   "bibliofile": "biblio.bib",
   "cite_by": "apalike",
   "current_citInitial": 1,
   "eqLabelWithNumbers": true,
   "eqNumInitial": 1,
   "hotkeys": {
    "equation": "Ctrl-E",
    "itemize": "Ctrl-I"
   },
   "labels_anchors": false,
   "latex_user_defs": false,
   "report_style_numbering": false,
   "user_envs_cfg": false
  },
  "nteract": {
   "version": "0.12.3"
  }
 },
 "nbformat": 4,
 "nbformat_minor": 2
}
